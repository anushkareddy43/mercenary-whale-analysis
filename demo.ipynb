{
 "cells": [
  {
   "cell_type": "code",
   "execution_count": 46,
   "id": "135ed6a3",
   "metadata": {},
   "outputs": [],
   "source": [
    "from sklearn.cluster import KMeans, DBSCAN\n",
    "from sklearn.preprocessing import StandardScaler\n",
    "import pandas as pd\n",
    "import numpy as np\n",
    "import matplotlib.pyplot as plt"
   ]
  },
  {
   "cell_type": "code",
   "execution_count": 47,
   "id": "3536758b",
   "metadata": {},
   "outputs": [
    {
     "name": "stdout",
     "output_type": "stream",
     "text": [
      "Sample of DateTime (UTC) column: ['0x26261D5fC06de4d39F253D05a58E62B48750Aa6D', '0xe52520062163c37Bd1920808F66cF0009e8Ff3bd', '0x5418226aF9C8d5D287A78FbBbCD337b86ec07D61', '0x5418226aF9C8d5D287A78FbBbCD337b86ec07D61', '0xBB289bC97591F70D8216462DF40ED713011B968a']\n",
      "Columns in data.csv: ['Transaction Hash', 'Status', 'Method', 'BlockNo', 'DateTime (UTC)', 'From', 'From_Nametag', 'To', 'To_Nametag', 'Amount', 'Value (USD)']\n"
     ]
    },
    {
     "name": "stderr",
     "output_type": "stream",
     "text": [
      "C:\\Users\\ASUS\\AppData\\Local\\Temp\\ipykernel_9656\\708647304.py:7: UserWarning: Could not infer format, so each element will be parsed individually, falling back to `dateutil`. To ensure parsing is consistent and as-expected, please specify a format.\n",
      "  df['DateTime (UTC)'] = pd.to_datetime(df['DateTime (UTC)'], errors='coerce')\n"
     ]
    },
    {
     "data": {
      "text/html": [
       "<div>\n",
       "<style scoped>\n",
       "    .dataframe tbody tr th:only-of-type {\n",
       "        vertical-align: middle;\n",
       "    }\n",
       "\n",
       "    .dataframe tbody tr th {\n",
       "        vertical-align: top;\n",
       "    }\n",
       "\n",
       "    .dataframe thead th {\n",
       "        text-align: right;\n",
       "    }\n",
       "</style>\n",
       "<table border=\"1\" class=\"dataframe\">\n",
       "  <thead>\n",
       "    <tr style=\"text-align: right;\">\n",
       "      <th></th>\n",
       "      <th>Transaction Hash</th>\n",
       "      <th>Status</th>\n",
       "      <th>Method</th>\n",
       "      <th>BlockNo</th>\n",
       "      <th>DateTime (UTC)</th>\n",
       "      <th>From</th>\n",
       "      <th>From_Nametag</th>\n",
       "      <th>To</th>\n",
       "      <th>To_Nametag</th>\n",
       "      <th>Amount</th>\n",
       "      <th>Value (USD)</th>\n",
       "    </tr>\n",
       "  </thead>\n",
       "  <tbody>\n",
       "  </tbody>\n",
       "</table>\n",
       "</div>"
      ],
      "text/plain": [
       "Empty DataFrame\n",
       "Columns: [Transaction Hash, Status, Method, BlockNo, DateTime (UTC), From, From_Nametag, To, To_Nametag, Amount, Value (USD)]\n",
       "Index: []"
      ]
     },
     "execution_count": 47,
     "metadata": {},
     "output_type": "execute_result"
    }
   ],
   "source": [
    "# Load and inspect data\n",
    "df = pd.read_csv('data.csv')\n",
    "print(\"Sample of DateTime (UTC) column:\", df['DateTime (UTC)'].head().tolist())\n",
    "print(\"Columns in data.csv:\", df.columns.tolist())\n",
    "\n",
    "# Preprocess data\n",
    "df['DateTime (UTC)'] = pd.to_datetime(df['DateTime (UTC)'], errors='coerce')\n",
    "df['Amount'] = pd.to_numeric(df['Amount'], errors='coerce')\n",
    "# Handle Value (USD) based on its type\n",
    "if df['Value (USD)'].dtype == 'object':  # If it's a string column\n",
    "    df['Value (USD)'] = pd.to_numeric(df['Value (USD)'].str.replace('$', '').str.replace(',', ''), errors='coerce')\n",
    "else:  # If it's already numeric\n",
    "    df['Value (USD)'] = pd.to_numeric(df['Value (USD)'], errors='coerce')\n",
    "\n",
    "df = df.dropna()  # Drops rows where any value is NaN or NaT\n",
    "df.head()"
   ]
  },
  {
   "cell_type": "code",
   "execution_count": 48,
   "id": "72ed9896",
   "metadata": {},
   "outputs": [
    {
     "data": {
      "text/plain": [
       "(0, 11)"
      ]
     },
     "execution_count": 48,
     "metadata": {},
     "output_type": "execute_result"
    }
   ],
   "source": [
    "df.shape"
   ]
  },
  {
   "cell_type": "code",
   "execution_count": 50,
   "id": "4223e661",
   "metadata": {},
   "outputs": [
    {
     "name": "stdout",
     "output_type": "stream",
     "text": [
      "Python executable: C:\\Users\\ASUS\\AppData\\Local\\Microsoft\\WindowsApps\\PythonSoftwareFoundation.Python.3.12_qbz5n2kfra8p0\\python.exe\n",
      "Ray initialization failed with OSError: [Errno 0] AssignProcessToJobObject() failed. Proceeding without Ray.\n",
      "Flower is installed successfully!\n",
      "Tuple type: <class 'tuple'>\n"
     ]
    }
   ],
   "source": [
    "import sys\n",
    "print(\"Python executable:\", sys.executable)\n",
    "import flwr as fl\n",
    "from flwr.common import NDArrays, Scalar\n",
    "from typing import Dict, Tuple, Optional\n",
    "import matplotlib.pyplot as plt\n",
    "import ray\n",
    "from sklearn.metrics import silhouette_score\n",
    "\n",
    "# Try to initialize Ray with error handling\n",
    "try:\n",
    "    # Shut down any existing Ray instance\n",
    "    ray.shutdown()\n",
    "    # Initialize Ray with options to avoid dashboard and job object issues\n",
    "    ray.init(dashboard_port=None, include_dashboard=False, _system_config={\"automatic_object_spilling_enabled\": False})\n",
    "    print(\"Ray initialized successfully!\")\n",
    "except OSError as e:\n",
    "    print(f\"Ray initialization failed with OSError: {e}. Proceeding without Ray.\")\n",
    "    ray = None  # Set ray to None to avoid further usage\n",
    "\n",
    "print(\"Flower is installed successfully!\")\n",
    "print(\"Tuple type:\", tuple)"
   ]
  },
  {
   "cell_type": "code",
   "execution_count": 51,
   "id": "cc0f0c1a",
   "metadata": {},
   "outputs": [
    {
     "name": "stdout",
     "output_type": "stream",
     "text": [
      "Sample of DateTime (UTC) column: ['0x26261D5fC06de4d39F253D05a58E62B48750Aa6D', '0xe52520062163c37Bd1920808F66cF0009e8Ff3bd', '0x5418226aF9C8d5D287A78FbBbCD337b86ec07D61', '0x5418226aF9C8d5D287A78FbBbCD337b86ec07D61', '0xBB289bC97591F70D8216462DF40ED713011B968a']\n",
      "Columns in data.csv: ['Transaction Hash', 'Status', 'Method', 'BlockNo', 'DateTime (UTC)', 'From', 'From_Nametag', 'To', 'To_Nametag', 'Amount', 'Value (USD)']\n",
      "Data type of Value (USD): float64\n"
     ]
    },
    {
     "name": "stderr",
     "output_type": "stream",
     "text": [
      "C:\\Users\\ASUS\\AppData\\Local\\Temp\\ipykernel_9656\\3280269156.py:8: UserWarning: Could not infer format, so each element will be parsed individually, falling back to `dateutil`. To ensure parsing is consistent and as-expected, please specify a format.\n",
      "  df['DateTime (UTC)'] = pd.to_datetime(df['DateTime (UTC)'], errors='coerce')\n"
     ]
    },
    {
     "data": {
      "text/html": [
       "<div>\n",
       "<style scoped>\n",
       "    .dataframe tbody tr th:only-of-type {\n",
       "        vertical-align: middle;\n",
       "    }\n",
       "\n",
       "    .dataframe tbody tr th {\n",
       "        vertical-align: top;\n",
       "    }\n",
       "\n",
       "    .dataframe thead th {\n",
       "        text-align: right;\n",
       "    }\n",
       "</style>\n",
       "<table border=\"1\" class=\"dataframe\">\n",
       "  <thead>\n",
       "    <tr style=\"text-align: right;\">\n",
       "      <th></th>\n",
       "      <th>Transaction Hash</th>\n",
       "      <th>Status</th>\n",
       "      <th>Method</th>\n",
       "      <th>BlockNo</th>\n",
       "      <th>DateTime (UTC)</th>\n",
       "      <th>From</th>\n",
       "      <th>From_Nametag</th>\n",
       "      <th>To</th>\n",
       "      <th>To_Nametag</th>\n",
       "      <th>Amount</th>\n",
       "      <th>Value (USD)</th>\n",
       "    </tr>\n",
       "  </thead>\n",
       "  <tbody>\n",
       "  </tbody>\n",
       "</table>\n",
       "</div>"
      ],
      "text/plain": [
       "Empty DataFrame\n",
       "Columns: [Transaction Hash, Status, Method, BlockNo, DateTime (UTC), From, From_Nametag, To, To_Nametag, Amount, Value (USD)]\n",
       "Index: []"
      ]
     },
     "execution_count": 51,
     "metadata": {},
     "output_type": "execute_result"
    }
   ],
   "source": [
    "# Load and inspect data\n",
    "df = pd.read_csv('data.csv')\n",
    "print(\"Sample of DateTime (UTC) column:\", df['DateTime (UTC)'].head().tolist())\n",
    "print(\"Columns in data.csv:\", df.columns.tolist())\n",
    "print(\"Data type of Value (USD):\", df['Value (USD)'].dtype)\n",
    "\n",
    "# Preprocess data\n",
    "df['DateTime (UTC)'] = pd.to_datetime(df['DateTime (UTC)'], errors='coerce')\n",
    "df['Amount'] = pd.to_numeric(df['Amount'], errors='coerce')\n",
    "\n",
    "# Handle Value (USD) based on its type\n",
    "if df['Value (USD)'].dtype == 'object':  # If it's a string column\n",
    "    df['Value (USD)'] = pd.to_numeric(df['Value (USD)'].str.replace('$', '').str.replace(',', ''), errors='coerce')\n",
    "else:  # If it's already numeric\n",
    "    df['Value (USD)'] = pd.to_numeric(df['Value (USD)'], errors='coerce')\n",
    "\n",
    "df = df.dropna()  # Drops rows where any value is NaN or NaT\n",
    "df.head()"
   ]
  },
  {
   "cell_type": "code",
   "execution_count": 52,
   "id": "80ea7f21",
   "metadata": {},
   "outputs": [
    {
     "name": "stdout",
     "output_type": "stream",
     "text": [
      "Warning: 'Percentage' column not found in CSV. Setting to 0.\n",
      "Warning: 'Value' column not found. Setting to 0.\n",
      "                                                   Transaction Hash  \\\n",
      "0x4932f4925b771a3f98677b667a28d79f2dd27357b6edb...          Success   \n",
      "0x8b005cede641fb4dd658e777e6ec93cefec778d0a54d6...          Success   \n",
      "0xdfa4cc78a21ef5804bbdf7cdae3e8d5847a53c5b949d2...          Success   \n",
      "0xdfa4cc78a21ef5804bbdf7cdae3e8d5847a53c5b949d2...          Success   \n",
      "0xdfa4cc78a21ef5804bbdf7cdae3e8d5847a53c5b949d2...          Success   \n",
      "\n",
      "                                                        Status    Method  \\\n",
      "0x4932f4925b771a3f98677b667a28d79f2dd27357b6edb...    Transfer  22672601   \n",
      "0x8b005cede641fb4dd658e777e6ec93cefec778d0a54d6...     Deposit  22672601   \n",
      "0xdfa4cc78a21ef5804bbdf7cdae3e8d5847a53c5b949d2...  0x2213bc0b  22672601   \n",
      "0xdfa4cc78a21ef5804bbdf7cdae3e8d5847a53c5b949d2...  0x2213bc0b  22672601   \n",
      "0xdfa4cc78a21ef5804bbdf7cdae3e8d5847a53c5b949d2...  0x2213bc0b  22672601   \n",
      "\n",
      "                                                                BlockNo  \\\n",
      "0x4932f4925b771a3f98677b667a28d79f2dd27357b6edb...  2025-06-10 07:14:23   \n",
      "0x8b005cede641fb4dd658e777e6ec93cefec778d0a54d6...  2025-06-10 07:14:23   \n",
      "0xdfa4cc78a21ef5804bbdf7cdae3e8d5847a53c5b949d2...  2025-06-10 07:14:23   \n",
      "0xdfa4cc78a21ef5804bbdf7cdae3e8d5847a53c5b949d2...  2025-06-10 07:14:23   \n",
      "0xdfa4cc78a21ef5804bbdf7cdae3e8d5847a53c5b949d2...  2025-06-10 07:14:23   \n",
      "\n",
      "                                                                                DateTime (UTC)  \\\n",
      "0x4932f4925b771a3f98677b667a28d79f2dd27357b6edb...  0x26261D5fC06de4d39F253D05a58E62B48750Aa6D   \n",
      "0x8b005cede641fb4dd658e777e6ec93cefec778d0a54d6...  0xe52520062163c37Bd1920808F66cF0009e8Ff3bd   \n",
      "0xdfa4cc78a21ef5804bbdf7cdae3e8d5847a53c5b949d2...  0x5418226aF9C8d5D287A78FbBbCD337b86ec07D61   \n",
      "0xdfa4cc78a21ef5804bbdf7cdae3e8d5847a53c5b949d2...  0x5418226aF9C8d5D287A78FbBbCD337b86ec07D61   \n",
      "0xdfa4cc78a21ef5804bbdf7cdae3e8d5847a53c5b949d2...  0xBB289bC97591F70D8216462DF40ED713011B968a   \n",
      "\n",
      "                                                   From  \\\n",
      "0x4932f4925b771a3f98677b667a28d79f2dd27357b6edb...  NaN   \n",
      "0x8b005cede641fb4dd658e777e6ec93cefec778d0a54d6...  NaN   \n",
      "0xdfa4cc78a21ef5804bbdf7cdae3e8d5847a53c5b949d2...  NaN   \n",
      "0xdfa4cc78a21ef5804bbdf7cdae3e8d5847a53c5b949d2...  NaN   \n",
      "0xdfa4cc78a21ef5804bbdf7cdae3e8d5847a53c5b949d2...  NaN   \n",
      "\n",
      "                                                                                  From_Nametag  \\\n",
      "0x4932f4925b771a3f98677b667a28d79f2dd27357b6edb...  0x8c018fE62835615565D5fbe28e6bAc6960888F4D   \n",
      "0x8b005cede641fb4dd658e777e6ec93cefec778d0a54d6...  0xd5255Cc08EBAf6D54ac9448822a18d8A3da29A42   \n",
      "0xdfa4cc78a21ef5804bbdf7cdae3e8d5847a53c5b949d2...  0x0dBecaD6cDC77079Bb8A9758555065240164a008   \n",
      "0xdfa4cc78a21ef5804bbdf7cdae3e8d5847a53c5b949d2...  0x7AfA9D836d2fCCf172b66622625e56404E465dBD   \n",
      "0xdfa4cc78a21ef5804bbdf7cdae3e8d5847a53c5b949d2...  0x5418226aF9C8d5D287A78FbBbCD337b86ec07D61   \n",
      "\n",
      "                                                     To     To_Nametag  \\\n",
      "0x4932f4925b771a3f98677b667a28d79f2dd27357b6edb...  NaN  54,602.719796   \n",
      "0x8b005cede641fb4dd658e777e6ec93cefec778d0a54d6...  NaN     998.826362   \n",
      "0xdfa4cc78a21ef5804bbdf7cdae3e8d5847a53c5b949d2...  NaN       3.513046   \n",
      "0xdfa4cc78a21ef5804bbdf7cdae3e8d5847a53c5b949d2...  NaN       0.030116   \n",
      "0xdfa4cc78a21ef5804bbdf7cdae3e8d5847a53c5b949d2...  NaN       3.543162   \n",
      "\n",
      "                                                    Amount  Value (USD)  \\\n",
      "0x4932f4925b771a3f98677b667a28d79f2dd27357b6edb...     NaN          NaN   \n",
      "0x8b005cede641fb4dd658e777e6ec93cefec778d0a54d6...     NaN          NaN   \n",
      "0xdfa4cc78a21ef5804bbdf7cdae3e8d5847a53c5b949d2...     NaN          NaN   \n",
      "0xdfa4cc78a21ef5804bbdf7cdae3e8d5847a53c5b949d2...     NaN          NaN   \n",
      "0xdfa4cc78a21ef5804bbdf7cdae3e8d5847a53c5b949d2...     NaN          NaN   \n",
      "\n",
      "                                                    Percentage  Value  \n",
      "0x4932f4925b771a3f98677b667a28d79f2dd27357b6edb...         0.0    0.0  \n",
      "0x8b005cede641fb4dd658e777e6ec93cefec778d0a54d6...         0.0    0.0  \n",
      "0xdfa4cc78a21ef5804bbdf7cdae3e8d5847a53c5b949d2...         0.0    0.0  \n",
      "0xdfa4cc78a21ef5804bbdf7cdae3e8d5847a53c5b949d2...         0.0    0.0  \n",
      "0xdfa4cc78a21ef5804bbdf7cdae3e8d5847a53c5b949d2...         0.0    0.0  \n"
     ]
    }
   ],
   "source": [
    "\n",
    "# Preprocessing the data  for percentage and value\n",
    "df = pd.read_csv('data.csv')\n",
    "\n",
    "# Handle 'Percentage' column (if it doesn't exist, set a default value)\n",
    "if 'Percentage' in df.columns:\n",
    "    df['Percentage'] = df['Percentage'].str.rstrip('%').astype(float)\n",
    "else:\n",
    "    print(\"Warning: 'Percentage' column not found in CSV. Setting to 0.\")\n",
    "    df['Percentage'] = 0.0  # Default value; adjust as needed\n",
    "\n",
    "# Handle 'Value' column\n",
    "if 'Value' in df.columns:\n",
    "    df['Value'] = df['Value'].str.replace('$', '', regex=False).str.replace(',', '', regex=False).astype(float)\n",
    "else:\n",
    "    print(\"Warning: 'Value' column not found. Setting to 0.\")\n",
    "    df['Value'] = 0.0  # Default value; adjust as needed\n",
    "\n",
    "# Use 'Amount' instead of 'Quantity'\n",
    "if 'Amount' in df.columns:\n",
    "    df['Amount'] = pd.to_numeric(df['Amount'], errors='coerce')\n",
    "else:\n",
    "    print(\"Warning: 'Amount' column not found. Setting to 0.\")\n",
    "    df['Amount'] = 0.0  # Default value; adjust as needed\n",
    "\n",
    "# Display the updated DataFrame to verify\n",
    "print(df.head())"
   ]
  },
  {
   "cell_type": "code",
   "execution_count": 53,
   "id": "be4b01e5",
   "metadata": {},
   "outputs": [
    {
     "name": "stdout",
     "output_type": "stream",
     "text": [
      "Warning: Some Amount values could not be converted to numeric. Replacing NaN with 0.\n",
      "Amount column data type: float64\n",
      "                                                    Amount  Percentage  Value\n",
      "0x4932f4925b771a3f98677b667a28d79f2dd27357b6edb...     0.0         0.0    0.0\n",
      "0x8b005cede641fb4dd658e777e6ec93cefec778d0a54d6...     0.0         0.0    0.0\n",
      "0xdfa4cc78a21ef5804bbdf7cdae3e8d5847a53c5b949d2...     0.0         0.0    0.0\n",
      "0xdfa4cc78a21ef5804bbdf7cdae3e8d5847a53c5b949d2...     0.0         0.0    0.0\n",
      "0xdfa4cc78a21ef5804bbdf7cdae3e8d5847a53c5b949d2...     0.0         0.0    0.0\n"
     ]
    }
   ],
   "source": [
    "# Check for NaN values after conversion\n",
    "if df['Amount'].isna().any():\n",
    "    print(\"Warning: Some Amount values could not be converted to numeric. Replacing NaN with 0.\")\n",
    "    df['Amount'] = df['Amount'].fillna(0)\n",
    "\n",
    "# Verify the data type\n",
    "print(\"Amount column data type:\", df['Amount'].dtype)\n",
    "print(df[['Amount', 'Percentage', 'Value']].head())"
   ]
  },
  {
   "cell_type": "code",
   "execution_count": 54,
   "id": "485c0679",
   "metadata": {},
   "outputs": [
    {
     "name": "stderr",
     "output_type": "stream",
     "text": [
      "C:\\Users\\ASUS\\AppData\\Local\\Packages\\PythonSoftwareFoundation.Python.3.12_qbz5n2kfra8p0\\LocalCache\\local-packages\\Python312\\site-packages\\sklearn\\utils\\extmath.py:1144: RuntimeWarning: invalid value encountered in divide\n",
      "  updated_mean = (last_sum + new_sum) / updated_sample_count\n",
      "C:\\Users\\ASUS\\AppData\\Local\\Packages\\PythonSoftwareFoundation.Python.3.12_qbz5n2kfra8p0\\LocalCache\\local-packages\\Python312\\site-packages\\sklearn\\utils\\extmath.py:1149: RuntimeWarning: invalid value encountered in divide\n",
      "  T = new_sum / new_sample_count\n",
      "C:\\Users\\ASUS\\AppData\\Local\\Packages\\PythonSoftwareFoundation.Python.3.12_qbz5n2kfra8p0\\LocalCache\\local-packages\\Python312\\site-packages\\sklearn\\utils\\extmath.py:1169: RuntimeWarning: invalid value encountered in divide\n",
      "  new_unnormalized_variance -= correction**2 / new_sample_count\n"
     ]
    }
   ],
   "source": [
    "# Prepare features for clustering\n",
    "features = df[['Amount', 'Value (USD)']]\n",
    "scaler = StandardScaler()\n",
    "scaled_features = scaler.fit_transform(features)"
   ]
  },
  {
   "cell_type": "code",
   "execution_count": 55,
   "id": "77f400bc",
   "metadata": {},
   "outputs": [],
   "source": [
    "class KMeansClient(fl.client.NumPyClient):  #defiing the flower client\n",
    "    def __init__(self, data):\n",
    "        self.data = data\n",
    "        self.kmeans = KMeans(n_clusters=2, random_state=42)\n",
    "        print(f\"Client initialized with {len(self.data)} data points\")\n",
    "\n",
    "    def get_parameters(self, config: Dict[str, Scalar]) -> NDArrays:\n",
    "        print(\"Client get_parameters called\")\n",
    "        if hasattr(self.kmeans, 'cluster_centers_'):\n",
    "            return self.kmeans.cluster_centers_\n",
    "        self.kmeans.fit(self.data)\n",
    "        return self.kmeans.cluster_centers_\n",
    "\n",
    "    def fit(self, parameters: NDArrays, config: Dict[str, Scalar]) -> Tuple[NDArrays, int, Dict]:\n",
    "        print(\"Client fit called\")\n",
    "        if parameters is not None:\n",
    "            self.kmeans = KMeans(n_clusters=2, init=np.array(parameters), n_init=1, random_state=42)\n",
    "        self.kmeans.fit(self.data)\n",
    "        centers = self.kmeans.cluster_centers_\n",
    "        print(f\"Returning centers with shape: {centers.shape}\")\n",
    "        return centers, len(self.data), {}\n",
    "\n",
    "    def evaluate(self, parameters: NDArrays, config: Dict[str, Scalar]) -> Tuple[float, int, Dict]:\n",
    "        print(\"Client evaluate called\")\n",
    "        self.kmeans.cluster_centers_ = np.array(parameters)\n",
    "        labels = self.kmeans.predict(self.data)\n",
    "        return float(self.kmeans.inertia_), len(self.data), {}"
   ]
  },
  {
   "cell_type": "code",
   "execution_count": 56,
   "id": "b082141b",
   "metadata": {},
   "outputs": [
    {
     "name": "stdout",
     "output_type": "stream",
     "text": [
      "Strategy initialized\n"
     ]
    }
   ],
   "source": [
    "# Define a custom strategy to aggregate cluster centers\n",
    "class KMeansStrategy(fl.server.strategy.FedAvg):\n",
    "    def __init__(self):\n",
    "        super().__init__()\n",
    "        self.global_centers = None\n",
    "        print(\"Strategy initialized\")\n",
    "\n",
    "    def aggregate_fit(\n",
    "        self,\n",
    "        server_round: int,\n",
    "        results: list[Tuple[fl.server.client_proxy.ClientProxy, fl.common.FitRes]],\n",
    "        failures: list[Tuple[fl.server.client_proxy.ClientProxy, fl.common.FitRes]],\n",
    "    ) -> Tuple[Optional[NDArrays], Dict[str, Scalar]]:\n",
    "        print(f\"Server round {server_round}: aggregate_fit called\")\n",
    "        print(f\"Results: {len(results)}, Failures: {len(failures)}\")\n",
    "        if failures:\n",
    "            print(\"Failures occurred:\", failures)\n",
    "            return None, {}\n",
    "        aggregated_parameters, metrics = super().aggregate_fit(server_round, results, failures)\n",
    "        if aggregated_parameters is not None:\n",
    "            self.global_centers = np.array(aggregated_parameters)\n",
    "            print(f\"Global centers updated: {self.global_centers}\")\n",
    "        else:\n",
    "            print(\"Aggregation failed, no parameters returned\")\n",
    "        return aggregated_parameters, metrics\n",
    "\n",
    "strategy = KMeansStrategy()"
   ]
  },
  {
   "cell_type": "code",
   "execution_count": 57,
   "id": "71632368",
   "metadata": {},
   "outputs": [],
   "source": [
    "#Run Flower simulation\n",
    "def client_fn(cid: str):\n",
    "    if cid == \"0\":\n",
    "        return KMeansClient(client_1_data)\n",
    "    elif cid == \"1\":\n",
    "        return KMeansClient(client_2_data)\n",
    "    else:\n",
    "        return KMeansClient(client_3_data)\n",
    "    \n"
   ]
  },
  {
   "cell_type": "code",
   "execution_count": 58,
   "id": "7752bb8e",
   "metadata": {},
   "outputs": [
    {
     "name": "stderr",
     "output_type": "stream",
     "text": [
      "\u001b[93mWARNING \u001b[0m:   DEPRECATED FEATURE: flwr.simulation.start_simulation() is deprecated.\n",
      "\tInstead, use the `flwr run` CLI command to start a local simulation in your Flower app, as shown for example below:\n",
      "\n",
      "\t\t$ flwr new  # Create a new Flower app from a template\n",
      "\n",
      "\t\t$ flwr run  # Run the Flower app in Simulation Mode\n",
      "\n",
      "\tUsing `start_simulation()` is deprecated.\n",
      "\n",
      "            This is a deprecated feature. It will be removed\n",
      "            entirely in future versions of Flower.\n",
      "        \n",
      "\u001b[92mINFO \u001b[0m:      Starting Flower simulation, config: num_rounds=3, no round_timeout\n"
     ]
    },
    {
     "name": "stdout",
     "output_type": "stream",
     "text": [
      "Starting Flower simulation...\n",
      "Simulation failed with error: [Errno 0] AssignProcessToJobObject() failed\n"
     ]
    }
   ],
   "source": [
    "print(\"Starting Flower simulation...\")\n",
    "\n",
    "try:\n",
    "    fl.simulation.start_simulation(\n",
    "        client_fn=client_fn,\n",
    "        num_clients=3,\n",
    "        client_resources={\"num_cpus\": 1},\n",
    "        config=fl.server.ServerConfig(num_rounds=3),\n",
    "        strategy=strategy,\n",
    "    )\n",
    "    print(\"Simulation completed successfully\")\n",
    "except Exception as e:\n",
    "    print(f\"Simulation failed with error: {e}\")"
   ]
  },
  {
   "cell_type": "code",
   "execution_count": 59,
   "id": "00191932",
   "metadata": {},
   "outputs": [
    {
     "name": "stdout",
     "output_type": "stream",
     "text": [
      "Python executable: C:\\Users\\ASUS\\AppData\\Local\\Microsoft\\WindowsApps\\PythonSoftwareFoundation.Python.3.12_qbz5n2kfra8p0\\python.exe\n"
     ]
    },
    {
     "name": "stderr",
     "output_type": "stream",
     "text": [
      "2025-06-20 19:55:35,706\tWARNING node.py:1906 -- The object spilling config is specified from an unstable API - system config or environment variable. This is subject to change in the future. You can use the stable API - --object-spilling-directory in ray start or object_spilling_directory in ray.init() to specify the object spilling directory instead. If you need more advanced settings, please open a github issue with the Ray team.\n"
     ]
    },
    {
     "name": "stdout",
     "output_type": "stream",
     "text": [
      "Ray initialization failed with OSError: [Errno 0] AssignProcessToJobObject() failed. Simulation may not work. Consider running in a standalone script.\n",
      "Flower is installed successfully!\n",
      "Tuple type: <class 'tuple'>\n"
     ]
    }
   ],
   "source": [
    "import sys\n",
    "print(\"Python executable:\", sys.executable)\n",
    "import flwr as fl\n",
    "from flwr.common import NDArrays, Scalar\n",
    "from flwr.server import Server\n",
    "from flwr.simulation import start_simulation\n",
    "from flwr.server.strategy import FedAvg\n",
    "from typing import Dict, Tuple, Optional\n",
    "import matplotlib.pyplot as plt\n",
    "import ray\n",
    "from sklearn.metrics import silhouette_score\n",
    "\n",
    "# Try to initialize Ray with enhanced error handling and options\n",
    "try:\n",
    "    ray.shutdown()  # Shut down any existing Ray instance\n",
    "    ray.init(\n",
    "        dashboard_port=None,\n",
    "        include_dashboard=False,\n",
    "        _system_config={\n",
    "            \"automatic_object_spilling_enabled\": False,\n",
    "            \"max_io_workers\": 1,  # Limit I/O workers to reduce resource contention\n",
    "            \"object_spilling_config\": \"{}\",  # Disable object spilling explicitly\n",
    "        },\n",
    "        ignore_reinit_error=True  # Ignore re-initialization errors\n",
    "    )\n",
    "    print(\"Ray initialized successfully!\")\n",
    "except OSError as e:\n",
    "    print(f\"Ray initialization failed with OSError: {e}. Simulation may not work. Consider running in a standalone script.\")\n",
    "    ray = None\n",
    "except Exception as e:\n",
    "    print(f\"Unexpected error during Ray initialization: {e}. Proceeding without Ray.\")\n",
    "    ray = None\n",
    "\n",
    "print(\"Flower is installed successfully!\")\n",
    "print(\"Tuple type:\", tuple)\n"
   ]
  },
  {
   "cell_type": "code",
   "execution_count": 61,
   "id": "36145e63",
   "metadata": {},
   "outputs": [
    {
     "name": "stdout",
     "output_type": "stream",
     "text": [
      "Ray not available. Simulation skipped. Use a standalone script for Flower simulation.\n"
     ]
    }
   ],
   "source": [
    "# Dummy client function (replace with your actual client logic)\n",
    "def client_fn(cid: str) -> fl.client.Client:\n",
    "    import numpy as np\n",
    "    from flwr.common import NDArrays\n",
    "\n",
    "    class SimpleClient(fl.client.NumPyClient):\n",
    "        def get_parameters(self, config: Dict[str, Scalar]) -> NDArrays:\n",
    "            return [np.zeros(10)]  # Dummy parameters\n",
    "\n",
    "        def fit(self, parameters: NDArrays, config: Dict[str, Scalar]) -> Tuple[NDArrays, int, Dict]:\n",
    "            return parameters, 10, {}  # Return unchanged parameters, sample size, and metrics\n",
    "\n",
    "        def evaluate(self, parameters: NDArrays, config: Dict[str, Scalar]) -> Tuple[float, int, Dict]:\n",
    "            return 0.0, 10, {}  # Dummy loss, sample size, and metrics\n",
    "\n",
    "    return SimpleClient()\n",
    "\n",
    "# Strategy\n",
    "strategy = FedAvg()\n",
    "\n",
    "# Start simulation with error handling\n",
    "if ray is not None:  # Only attempt simulation if Ray initialized successfully\n",
    "    try:\n",
    "        start_simulation(\n",
    "            client_fn=client_fn,\n",
    "            num_clients=2,\n",
    "            config={\"num_rounds\": 3},\n",
    "            strategy=strategy\n",
    "        )\n",
    "        global_centers = strategy.global_centers\n",
    "        if global_centers is None:\n",
    "            raise ValueError(\"Federated learning failed to produce global cluster centers.\")\n",
    "        print(f\"Global centers: {global_centers}\")\n",
    "    except OSError as e:\n",
    "        print(f\"Simulation failed with OSError: {e}. Check Ray setup or run in a standalone script.\")\n",
    "    except Exception as e:\n",
    "        print(f\"Simulation failed with error: {e}\")\n",
    "else:\n",
    "    print(\"Ray not available. Simulation skipped. Use a standalone script for Flower simulation.\")"
   ]
  },
  {
   "cell_type": "code",
   "execution_count": 62,
   "id": "f5022837",
   "metadata": {},
   "outputs": [
    {
     "name": "stderr",
     "output_type": "stream",
     "text": [
      "2025-06-20 19:55:48,257\tWARNING node.py:1906 -- The object spilling config is specified from an unstable API - system config or environment variable. This is subject to change in the future. You can use the stable API - --object-spilling-directory in ray start or object_spilling_directory in ray.init() to specify the object spilling directory instead. If you need more advanced settings, please open a github issue with the Ray team.\n"
     ]
    },
    {
     "name": "stdout",
     "output_type": "stream",
     "text": [
      "Ray initialization failed with OSError: [Errno 0] AssignProcessToJobObject() failed. Proceeding without Ray or simulation may fail.\n"
     ]
    }
   ],
   "source": [
    "import ray\n",
    "\n",
    "# Try to initialize Ray with error handling\n",
    "try:\n",
    "    ray.shutdown()  # Shut down any existing Ray instance\n",
    "    ray.init(\n",
    "        dashboard_port=None,\n",
    "        include_dashboard=False,\n",
    "        _system_config={\n",
    "            \"automatic_object_spilling_enabled\": False,\n",
    "            \"max_io_workers\": 1,\n",
    "            \"object_spilling_config\": \"{}\",\n",
    "        },\n",
    "        ignore_reinit_error=True\n",
    "    )\n",
    "    print(\"Ray initialized successfully!\")\n",
    "except OSError as e:\n",
    "    print(f\"Ray initialization failed with OSError: {e}. Proceeding without Ray or simulation may fail.\")\n",
    "    ray = None\n",
    "except Exception as e:\n",
    "    print(f\"Unexpected error during Ray initialization: {e}. Proceeding without Ray.\")\n",
    "    ray = None"
   ]
  },
  {
   "cell_type": "code",
   "execution_count": 64,
   "id": "d3b05f81",
   "metadata": {},
   "outputs": [
    {
     "name": "stdout",
     "output_type": "stream",
     "text": [
      "Warning: NaN values detected in scaled_features. Imputing with mean...\n",
      "Cluster distribution: cluster\n",
      "0    25\n",
      "Name: count, dtype: int64\n"
     ]
    },
    {
     "name": "stderr",
     "output_type": "stream",
     "text": [
      "C:\\Users\\ASUS\\AppData\\Local\\Packages\\PythonSoftwareFoundation.Python.3.12_qbz5n2kfra8p0\\LocalCache\\local-packages\\Python312\\site-packages\\sklearn\\impute\\_base.py:637: UserWarning: Skipping features without any observed values: [1]. At least one non-missing value is needed for imputation with strategy='mean'.\n",
      "  warnings.warn(\n",
      "C:\\Users\\ASUS\\AppData\\Local\\Packages\\PythonSoftwareFoundation.Python.3.12_qbz5n2kfra8p0\\LocalCache\\local-packages\\Python312\\site-packages\\sklearn\\base.py:1363: ConvergenceWarning: Number of distinct clusters (1) found smaller than n_clusters (2). Possibly due to duplicate points in X.\n",
      "  return fit_method(estimator, *args, **kwargs)\n"
     ]
    }
   ],
   "source": [
    "# Applying the final clustering to all data\n",
    "import numpy as np\n",
    "from sklearn.impute import SimpleImputer\n",
    "\n",
    "# Check for NaN in scaled_features\n",
    "if np.isnan(scaled_features).any():\n",
    "    print(\"Warning: NaN values detected in scaled_features. Imputing with mean...\")\n",
    "    imputer = SimpleImputer(strategy='mean')\n",
    "    scaled_features = imputer.fit_transform(scaled_features)\n",
    "\n",
    "final_kmeans = KMeans(n_clusters=2, random_state=42)\n",
    "final_kmeans.fit(scaled_features)\n",
    "df['cluster'] = final_kmeans.predict(scaled_features)\n",
    "\n",
    "# Check the cluster distribution\n",
    "print(\"Cluster distribution:\", df['cluster'].value_counts())"
   ]
  },
  {
   "cell_type": "code",
   "execution_count": 65,
   "id": "7bed4b79",
   "metadata": {},
   "outputs": [
    {
     "name": "stdout",
     "output_type": "stream",
     "text": [
      "n_clusters=2, Unique clusters=2, Labels=[0 0 1 1 1]\n",
      "n_clusters=3, Unique clusters=3, Labels=[2 0 0 1 1]\n",
      "n_clusters=4, Unique clusters=4, Labels=[2 0 0 3 1]\n",
      "n_clusters=5, Unique clusters=5, Labels=[2 0 4 3 1]\n"
     ]
    }
   ],
   "source": [
    "from sklearn.cluster import KMeans\n",
    "import pandas as pd\n",
    "\n",
    "# Your DataFrame\n",
    "data = {'feature1': [1, 2, 3, 4, 5], 'feature2': [2, 4, 5, 4, 5]}\n",
    "df = pd.DataFrame(data)\n",
    "\n",
    "# Test different numbers of clusters\n",
    "for n_clusters in range(2, 6):\n",
    "    kmeans = KMeans(n_clusters=n_clusters, random_state=42)\n",
    "    cluster_labels = kmeans.fit_predict(df[['feature1', 'feature2']])\n",
    "    unique_clusters = len(set(cluster_labels))\n",
    "    print(f\"n_clusters={n_clusters}, Unique clusters={unique_clusters}, Labels={cluster_labels}\")"
   ]
  },
  {
   "cell_type": "code",
   "execution_count": 66,
   "id": "4e3dc851",
   "metadata": {},
   "outputs": [
    {
     "name": "stdout",
     "output_type": "stream",
     "text": [
      "DBSCAN Labels: [-1 -1 -1 -1 -1], Unique clusters (excluding noise): 0\n",
      "DBSCAN produced fewer than 2 clusters (excluding noise).\n"
     ]
    }
   ],
   "source": [
    "from sklearn.cluster import DBSCAN\n",
    "from sklearn.metrics import silhouette_score\n",
    "\n",
    "# Your DataFrame\n",
    "data = {'feature1': [1, 2, 3, 4, 5], 'feature2': [2, 4, 5, 4, 5]}\n",
    "df = pd.DataFrame(data)\n",
    "\n",
    "# Try DBSCAN\n",
    "dbscan = DBSCAN(eps=1.0, min_samples=2)\n",
    "cluster_labels = dbscan.fit_predict(df[['feature1', 'feature2']])\n",
    "unique_clusters = len(set(cluster_labels)) - (1 if -1 in cluster_labels else 0)  # Exclude noise\n",
    "print(f\"DBSCAN Labels: {cluster_labels}, Unique clusters (excluding noise): {unique_clusters}\")\n",
    "if unique_clusters >= 2:\n",
    "    score = silhouette_score(df[['feature1', 'feature2']], cluster_labels)\n",
    "    print(f\"Silhouette Score with DBSCAN: {score}\")\n",
    "else:\n",
    "    print(\"DBSCAN produced fewer than 2 clusters (excluding noise).\")"
   ]
  },
  {
   "cell_type": "code",
   "execution_count": 67,
   "id": "96861095",
   "metadata": {},
   "outputs": [
    {
     "name": "stdout",
     "output_type": "stream",
     "text": [
      "After excluding noise, fewer than 2 clusters remain.\n"
     ]
    }
   ],
   "source": [
    "# Filter out noise points\n",
    "mask = cluster_labels != -1\n",
    "if len(set(cluster_labels[mask])) >= 2:\n",
    "    score = silhouette_score(df[['feature1', 'feature2']][mask], cluster_labels[mask])\n",
    "    print(f\"Silhouette Score with DBSCAN (excluding noise): {score}\")\n",
    "else:\n",
    "    print(\"After excluding noise, fewer than 2 clusters remain.\")"
   ]
  },
  {
   "cell_type": "code",
   "execution_count": 68,
   "id": "674c0b36",
   "metadata": {},
   "outputs": [
    {
     "name": "stdout",
     "output_type": "stream",
     "text": [
      "Shape of features: (5, 2)\n",
      "Length of cluster_labels: 5\n"
     ]
    }
   ],
   "source": [
    "print(\"Shape of features:\", df[['feature1', 'feature2']].shape)\n",
    "print(\"Length of cluster_labels:\", len(cluster_labels))"
   ]
  },
  {
   "cell_type": "code",
   "execution_count": 69,
   "id": "f5818cc2",
   "metadata": {},
   "outputs": [
    {
     "name": "stdout",
     "output_type": "stream",
     "text": [
      "n_clusters=2, Unique clusters=2, Labels=[0 0 1 1 1]\n",
      "Cluster sizes: [2 3]\n",
      "Silhouette Score: 0.3655981284134393\n",
      "n_clusters=3, Unique clusters=3, Labels=[2 0 0 1 1]\n",
      "Cluster sizes: [2 2 1]\n",
      "Skipping silhouette score for 3 clusters: 3 clusters found, sizes=[2 2 1]\n",
      "n_clusters=4, Unique clusters=4, Labels=[2 0 0 3 1]\n",
      "Cluster sizes: [2 1 1 1]\n",
      "Skipping silhouette score for 4 clusters: 4 clusters found, sizes=[2 1 1 1]\n",
      "n_clusters=5, Unique clusters=5, Labels=[2 0 4 3 1]\n",
      "Cluster sizes: [1 1 1 1 1]\n",
      "Skipping silhouette score for 5 clusters: 5 clusters found, sizes=[1 1 1 1 1]\n"
     ]
    }
   ],
   "source": [
    "from sklearn.cluster import KMeans\n",
    "import numpy as np\n",
    "\n",
    "# Your DataFrame\n",
    "data = {'feature1': [1, 2, 3, 4, 5], 'feature2': [2, 4, 5, 4, 5]}\n",
    "df = pd.DataFrame(data)\n",
    "\n",
    "for n_clusters in range(2, 6):\n",
    "    kmeans = KMeans(n_clusters=n_clusters, random_state=42)\n",
    "    cluster_labels = kmeans.fit_predict(df[['feature1', 'feature2']])\n",
    "    unique_clusters = len(set(cluster_labels))\n",
    "    print(f\"n_clusters={n_clusters}, Unique clusters={unique_clusters}, Labels={cluster_labels}\")\n",
    "    \n",
    "    # Check the size of each cluster\n",
    "    cluster_sizes = np.bincount(cluster_labels)\n",
    "    print(f\"Cluster sizes: {cluster_sizes}\")\n",
    "    \n",
    "    if unique_clusters >= 2 and all(size > 1 for size in cluster_sizes if size > 0):\n",
    "        score = silhouette_score(df[['feature1', 'feature2']], cluster_labels)\n",
    "        print(f\"Silhouette Score: {score}\")\n",
    "    else:\n",
    "        print(f\"Skipping silhouette score for {n_clusters} clusters: {unique_clusters} clusters found, sizes={cluster_sizes}\")"
   ]
  },
  {
   "cell_type": "code",
   "execution_count": 70,
   "id": "bf2add5d",
   "metadata": {},
   "outputs": [
    {
     "name": "stdout",
     "output_type": "stream",
     "text": [
      "n_clusters=2, Unique clusters=2, Labels=[0 0 1 1 1], Sizes=[2 3]\n",
      "Silhouette Score: 0.33330935374127285\n",
      "n_clusters=3, Unique clusters=3, Labels=[2 0 0 1 1], Sizes=[2 2 1]\n",
      "Skipping silhouette score for 3 clusters: 3 clusters found, sizes=[2 2 1]\n",
      "n_clusters=4, Unique clusters=4, Labels=[2 0 0 3 1], Sizes=[2 1 1 1]\n",
      "Skipping silhouette score for 4 clusters: 4 clusters found, sizes=[2 1 1 1]\n",
      "n_clusters=5, Unique clusters=5, Labels=[2 0 4 3 1], Sizes=[1 1 1 1 1]\n",
      "Skipping silhouette score for 5 clusters: 5 clusters found, sizes=[1 1 1 1 1]\n"
     ]
    }
   ],
   "source": [
    "from sklearn.preprocessing import StandardScaler\n",
    "\n",
    "scaler = StandardScaler()\n",
    "scaled_features = scaler.fit_transform(df[['feature1', 'feature2']])\n",
    "\n",
    "for n_clusters in range(2, 6):\n",
    "    kmeans = KMeans(n_clusters=n_clusters, random_state=42)\n",
    "    cluster_labels = kmeans.fit_predict(scaled_features)\n",
    "    unique_clusters = len(set(cluster_labels))\n",
    "    cluster_sizes = np.bincount(cluster_labels)\n",
    "    print(f\"n_clusters={n_clusters}, Unique clusters={unique_clusters}, Labels={cluster_labels}, Sizes={cluster_sizes}\")\n",
    "    if unique_clusters >= 2 and all(size > 1 for size in cluster_sizes if size > 0):\n",
    "        score = silhouette_score(scaled_features, cluster_labels)\n",
    "        print(f\"Silhouette Score: {score}\")\n",
    "    else:\n",
    "        print(f\"Skipping silhouette score for {n_clusters} clusters: {unique_clusters} clusters found, sizes={cluster_sizes}\")"
   ]
  },
  {
   "cell_type": "code",
   "execution_count": 71,
   "id": "ae058378",
   "metadata": {},
   "outputs": [
    {
     "data": {
      "image/png": "[encoded data removed]",
      "text/plain": [
       "<Figure size 640x480 with 1 Axes>"
      ]
     },
     "metadata": {},
     "output_type": "display_data"
    }
   ],
   "source": [
    "import matplotlib.pyplot as plt\n",
    "\n",
    "plt.scatter(df['feature1'], df['feature2'], c=cluster_labels, cmap='viridis')\n",
    "plt.xlabel('Feature 1')\n",
    "plt.ylabel('Feature 2')\n",
    "plt.title('Clusters')\n",
    "plt.show()"
   ]
  },
  {
   "cell_type": "code",
   "execution_count": 72,
   "id": "a3b3d950",
   "metadata": {},
   "outputs": [],
   "source": [
    "dbscan = DBSCAN(eps=1.5, min_samples=2)\n",
    "cluster_labels = dbscan.fit_predict(scaled_features)"
   ]
  },
  {
   "cell_type": "code",
   "execution_count": 73,
   "id": "afd8babb",
   "metadata": {},
   "outputs": [
    {
     "name": "stdout",
     "output_type": "stream",
     "text": [
      "   feature1  feature2  cluster\n",
      "0         1         2       -1\n",
      "1         2         4        0\n",
      "2         3         5        0\n",
      "3         4         4        0\n",
      "4         5         5        0\n"
     ]
    }
   ],
   "source": [
    "df['cluster'] = cluster_labels\n",
    "df.to_csv('clustered_data.csv', index=False)\n",
    "print(df)"
   ]
  }
 ],
 "metadata": {
  "kernelspec": {
   "display_name": "Python 3",
   "language": "python",
   "name": "python3"
  },
  "language_info": {
   "codemirror_mode": {
    "name": "ipython",
    "version": 3
   },
   "file_extension": ".py",
   "mimetype": "text/x-python",
   "name": "python",
   "nbconvert_exporter": "python",
   "pygments_lexer": "ipython3",
   "version": "3.12.10"
  }
 },
 "nbformat": 4,
 "nbformat_minor": 5
}
