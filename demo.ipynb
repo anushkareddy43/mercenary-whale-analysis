{
 "cells": [
  {
   "cell_type": "code",
   "execution_count": 1,
   "id": "135ed6a3",
   "metadata": {},
   "outputs": [],
   "source": [
    "from sklearn.cluster import KMeans #clustering\n",
    "from sklearn.preprocessing import MinMaxScaler\n",
    "import pandas as pd \n",
    "import numpy as np"
   ]
  },
  {
   "cell_type": "code",
   "execution_count": null,
   "id": "3536758b",
   "metadata": {},
   "outputs": [
    {
     "data": {
      "text/html": [
       "<div>\n",
       "<style scoped>\n",
       "    .dataframe tbody tr th:only-of-type {\n",
       "        vertical-align: middle;\n",
       "    }\n",
       "\n",
       "    .dataframe tbody tr th {\n",
       "        vertical-align: top;\n",
       "    }\n",
       "\n",
       "    .dataframe thead th {\n",
       "        text-align: right;\n",
       "    }\n",
       "</style>\n",
       "<table border=\"1\" class=\"dataframe\">\n",
       "  <thead>\n",
       "    <tr style=\"text-align: right;\">\n",
       "      <th></th>\n",
       "      <th>Transaction Hash</th>\n",
       "      <th>Status</th>\n",
       "      <th>Method</th>\n",
       "      <th>BlockNo</th>\n",
       "      <th>DateTime (UTC)</th>\n",
       "      <th>From</th>\n",
       "      <th>From_Nametag</th>\n",
       "      <th>To</th>\n",
       "      <th>To_Nametag</th>\n",
       "      <th>Amount</th>\n",
       "      <th>Value (USD)</th>\n",
       "    </tr>\n",
       "  </thead>\n",
       "  <tbody>\n",
       "    <tr>\n",
       "      <th>0x4932f4925b771a3f98677b667a28d79f2dd27357b6edb4827a3cf6656f49c349</th>\n",
       "      <td>Success</td>\n",
       "      <td>Transfer</td>\n",
       "      <td>22672601</td>\n",
       "      <td>2025-06-10 07:14:23</td>\n",
       "      <td>0x26261D5fC06de4d39F253D05a58E62B48750Aa6D</td>\n",
       "      <td>NaN</td>\n",
       "      <td>0x8c018fE62835615565D5fbe28e6bAc6960888F4D</td>\n",
       "      <td>NaN</td>\n",
       "      <td>54,602.719796</td>\n",
       "      <td>$54,592.02</td>\n",
       "      <td>NaN</td>\n",
       "    </tr>\n",
       "    <tr>\n",
       "      <th>0x8b005cede641fb4dd658e777e6ec93cefec778d0a54d6af5f7641c3e8928e0c8</th>\n",
       "      <td>Success</td>\n",
       "      <td>Deposit</td>\n",
       "      <td>22672601</td>\n",
       "      <td>2025-06-10 07:14:23</td>\n",
       "      <td>0xe52520062163c37Bd1920808F66cF0009e8Ff3bd</td>\n",
       "      <td>NaN</td>\n",
       "      <td>0xd5255Cc08EBAf6D54ac9448822a18d8A3da29A42</td>\n",
       "      <td>NaN</td>\n",
       "      <td>998.826362</td>\n",
       "      <td>$998.63</td>\n",
       "      <td>NaN</td>\n",
       "    </tr>\n",
       "    <tr>\n",
       "      <th>0xdfa4cc78a21ef5804bbdf7cdae3e8d5847a53c5b949d2e993ee19f7bbdfc9863</th>\n",
       "      <td>Success</td>\n",
       "      <td>0x2213bc0b</td>\n",
       "      <td>22672601</td>\n",
       "      <td>2025-06-10 07:14:23</td>\n",
       "      <td>0x5418226aF9C8d5D287A78FbBbCD337b86ec07D61</td>\n",
       "      <td>NaN</td>\n",
       "      <td>0x0dBecaD6cDC77079Bb8A9758555065240164a008</td>\n",
       "      <td>NaN</td>\n",
       "      <td>3.513046</td>\n",
       "      <td>$3.51</td>\n",
       "      <td>NaN</td>\n",
       "    </tr>\n",
       "    <tr>\n",
       "      <th>0xdfa4cc78a21ef5804bbdf7cdae3e8d5847a53c5b949d2e993ee19f7bbdfc9863</th>\n",
       "      <td>Success</td>\n",
       "      <td>0x2213bc0b</td>\n",
       "      <td>22672601</td>\n",
       "      <td>2025-06-10 07:14:23</td>\n",
       "      <td>0x5418226aF9C8d5D287A78FbBbCD337b86ec07D61</td>\n",
       "      <td>NaN</td>\n",
       "      <td>0x7AfA9D836d2fCCf172b66622625e56404E465dBD</td>\n",
       "      <td>NaN</td>\n",
       "      <td>0.030116</td>\n",
       "      <td>$0.03</td>\n",
       "      <td>NaN</td>\n",
       "    </tr>\n",
       "    <tr>\n",
       "      <th>0xdfa4cc78a21ef5804bbdf7cdae3e8d5847a53c5b949d2e993ee19f7bbdfc9863</th>\n",
       "      <td>Success</td>\n",
       "      <td>0x2213bc0b</td>\n",
       "      <td>22672601</td>\n",
       "      <td>2025-06-10 07:14:23</td>\n",
       "      <td>0xBB289bC97591F70D8216462DF40ED713011B968a</td>\n",
       "      <td>NaN</td>\n",
       "      <td>0x5418226aF9C8d5D287A78FbBbCD337b86ec07D61</td>\n",
       "      <td>NaN</td>\n",
       "      <td>3.543162</td>\n",
       "      <td>$3.54</td>\n",
       "      <td>NaN</td>\n",
       "    </tr>\n",
       "  </tbody>\n",
       "</table>\n",
       "</div>"
      ],
      "text/plain": [
       "                                                   Transaction Hash  \\\n",
       "0x4932f4925b771a3f98677b667a28d79f2dd27357b6edb...          Success   \n",
       "0x8b005cede641fb4dd658e777e6ec93cefec778d0a54d6...          Success   \n",
       "0xdfa4cc78a21ef5804bbdf7cdae3e8d5847a53c5b949d2...          Success   \n",
       "0xdfa4cc78a21ef5804bbdf7cdae3e8d5847a53c5b949d2...          Success   \n",
       "0xdfa4cc78a21ef5804bbdf7cdae3e8d5847a53c5b949d2...          Success   \n",
       "\n",
       "                                                        Status    Method  \\\n",
       "0x4932f4925b771a3f98677b667a28d79f2dd27357b6edb...    Transfer  22672601   \n",
       "0x8b005cede641fb4dd658e777e6ec93cefec778d0a54d6...     Deposit  22672601   \n",
       "0xdfa4cc78a21ef5804bbdf7cdae3e8d5847a53c5b949d2...  0x2213bc0b  22672601   \n",
       "0xdfa4cc78a21ef5804bbdf7cdae3e8d5847a53c5b949d2...  0x2213bc0b  22672601   \n",
       "0xdfa4cc78a21ef5804bbdf7cdae3e8d5847a53c5b949d2...  0x2213bc0b  22672601   \n",
       "\n",
       "                                                                BlockNo  \\\n",
       "0x4932f4925b771a3f98677b667a28d79f2dd27357b6edb...  2025-06-10 07:14:23   \n",
       "0x8b005cede641fb4dd658e777e6ec93cefec778d0a54d6...  2025-06-10 07:14:23   \n",
       "0xdfa4cc78a21ef5804bbdf7cdae3e8d5847a53c5b949d2...  2025-06-10 07:14:23   \n",
       "0xdfa4cc78a21ef5804bbdf7cdae3e8d5847a53c5b949d2...  2025-06-10 07:14:23   \n",
       "0xdfa4cc78a21ef5804bbdf7cdae3e8d5847a53c5b949d2...  2025-06-10 07:14:23   \n",
       "\n",
       "                                                                                DateTime (UTC)  \\\n",
       "0x4932f4925b771a3f98677b667a28d79f2dd27357b6edb...  0x26261D5fC06de4d39F253D05a58E62B48750Aa6D   \n",
       "0x8b005cede641fb4dd658e777e6ec93cefec778d0a54d6...  0xe52520062163c37Bd1920808F66cF0009e8Ff3bd   \n",
       "0xdfa4cc78a21ef5804bbdf7cdae3e8d5847a53c5b949d2...  0x5418226aF9C8d5D287A78FbBbCD337b86ec07D61   \n",
       "0xdfa4cc78a21ef5804bbdf7cdae3e8d5847a53c5b949d2...  0x5418226aF9C8d5D287A78FbBbCD337b86ec07D61   \n",
       "0xdfa4cc78a21ef5804bbdf7cdae3e8d5847a53c5b949d2...  0xBB289bC97591F70D8216462DF40ED713011B968a   \n",
       "\n",
       "                                                   From  \\\n",
       "0x4932f4925b771a3f98677b667a28d79f2dd27357b6edb...  NaN   \n",
       "0x8b005cede641fb4dd658e777e6ec93cefec778d0a54d6...  NaN   \n",
       "0xdfa4cc78a21ef5804bbdf7cdae3e8d5847a53c5b949d2...  NaN   \n",
       "0xdfa4cc78a21ef5804bbdf7cdae3e8d5847a53c5b949d2...  NaN   \n",
       "0xdfa4cc78a21ef5804bbdf7cdae3e8d5847a53c5b949d2...  NaN   \n",
       "\n",
       "                                                                                  From_Nametag  \\\n",
       "0x4932f4925b771a3f98677b667a28d79f2dd27357b6edb...  0x8c018fE62835615565D5fbe28e6bAc6960888F4D   \n",
       "0x8b005cede641fb4dd658e777e6ec93cefec778d0a54d6...  0xd5255Cc08EBAf6D54ac9448822a18d8A3da29A42   \n",
       "0xdfa4cc78a21ef5804bbdf7cdae3e8d5847a53c5b949d2...  0x0dBecaD6cDC77079Bb8A9758555065240164a008   \n",
       "0xdfa4cc78a21ef5804bbdf7cdae3e8d5847a53c5b949d2...  0x7AfA9D836d2fCCf172b66622625e56404E465dBD   \n",
       "0xdfa4cc78a21ef5804bbdf7cdae3e8d5847a53c5b949d2...  0x5418226aF9C8d5D287A78FbBbCD337b86ec07D61   \n",
       "\n",
       "                                                     To     To_Nametag  \\\n",
       "0x4932f4925b771a3f98677b667a28d79f2dd27357b6edb...  NaN  54,602.719796   \n",
       "0x8b005cede641fb4dd658e777e6ec93cefec778d0a54d6...  NaN     998.826362   \n",
       "0xdfa4cc78a21ef5804bbdf7cdae3e8d5847a53c5b949d2...  NaN       3.513046   \n",
       "0xdfa4cc78a21ef5804bbdf7cdae3e8d5847a53c5b949d2...  NaN       0.030116   \n",
       "0xdfa4cc78a21ef5804bbdf7cdae3e8d5847a53c5b949d2...  NaN       3.543162   \n",
       "\n",
       "                                                        Amount  Value (USD)  \n",
       "0x4932f4925b771a3f98677b667a28d79f2dd27357b6edb...  $54,592.02          NaN  \n",
       "0x8b005cede641fb4dd658e777e6ec93cefec778d0a54d6...     $998.63          NaN  \n",
       "0xdfa4cc78a21ef5804bbdf7cdae3e8d5847a53c5b949d2...       $3.51          NaN  \n",
       "0xdfa4cc78a21ef5804bbdf7cdae3e8d5847a53c5b949d2...       $0.03          NaN  \n",
       "0xdfa4cc78a21ef5804bbdf7cdae3e8d5847a53c5b949d2...       $3.54          NaN  "
      ]
     },
     "execution_count": 3,
     "metadata": {},
     "output_type": "execute_result"
    }
   ],
   "source": [
    "df = pd.read_csv('data.csv')\n",
    "df.head()"
   ]
  },
  {
   "cell_type": "code",
   "execution_count": 4,
   "id": "72ed9896",
   "metadata": {},
   "outputs": [
    {
     "data": {
      "text/plain": [
       "(25, 11)"
      ]
     },
     "execution_count": 4,
     "metadata": {},
     "output_type": "execute_result"
    }
   ],
   "source": [
    "df.shape"
   ]
  },
  {
   "cell_type": "code",
   "execution_count": 7,
   "id": "67b2770c",
   "metadata": {},
   "outputs": [
    {
     "name": "stdout",
     "output_type": "stream",
     "text": [
      "Python executable: C:\\Users\\ASUS\\AppData\\Local\\Microsoft\\WindowsApps\\PythonSoftwareFoundation.Python.3.12_qbz5n2kfra8p0\\python.exe\n"
     ]
    },
    {
     "name": "stderr",
     "output_type": "stream",
     "text": [
      "C:\\Users\\ASUS\\AppData\\Local\\Packages\\PythonSoftwareFoundation.Python.3.12_qbz5n2kfra8p0\\LocalCache\\local-packages\\Python312\\site-packages\\tqdm\\auto.py:21: TqdmWarning: IProgress not found. Please update jupyter and ipywidgets. See https://ipywidgets.readthedocs.io/en/stable/user_install.html\n",
      "  from .autonotebook import tqdm as notebook_tqdm\n",
      "2025-06-19 20:48:10,474\tINFO util.py:154 -- Missing packages: ['ipywidgets']. Run `pip install -U ipywidgets`, then restart the notebook server for rich notebook output.\n"
     ]
    }
   ],
   "source": [
    "import sys\n",
    "print(\"Python executable:\", sys.executable)\n",
    "import flwr as fl\n",
    "from flwr.common import NDArrays, Scalar\n",
    "from typing import Dict, Tuple, Optional  \n",
    "import matplotlib.pyplot as plt\n",
    "\n"
   ]
  },
  {
   "cell_type": "code",
   "execution_count": 9,
   "id": "4223e661",
   "metadata": {},
   "outputs": [
    {
     "ename": "OSError",
     "evalue": "[Errno 0] AssignProcessToJobObject() failed",
     "output_type": "error",
     "traceback": [
      "\u001b[31m---------------------------------------------------------------------------\u001b[39m",
      "\u001b[31mOSError\u001b[39m                                   Traceback (most recent call last)",
      "\u001b[36mCell\u001b[39m\u001b[36m \u001b[39m\u001b[32mIn[9]\u001b[39m\u001b[32m, line 6\u001b[39m\n\u001b[32m      4\u001b[39m \u001b[38;5;66;03m# Ensure any previous Ray instance is shut down\u001b[39;00m\n\u001b[32m      5\u001b[39m ray.shutdown()\n\u001b[32m----> \u001b[39m\u001b[32m6\u001b[39m \u001b[43mray\u001b[49m\u001b[43m.\u001b[49m\u001b[43minit\u001b[49m\u001b[43m(\u001b[49m\u001b[43mdashboard_port\u001b[49m\u001b[43m=\u001b[49m\u001b[38;5;28;43;01mNone\u001b[39;49;00m\u001b[43m,\u001b[49m\u001b[43m \u001b[49m\u001b[43minclude_dashboard\u001b[49m\u001b[43m=\u001b[49m\u001b[38;5;28;43;01mFalse\u001b[39;49;00m\u001b[43m)\u001b[49m\n\u001b[32m      8\u001b[39m \u001b[38;5;28mprint\u001b[39m(\u001b[33m\"\u001b[39m\u001b[33mFlower is installed successfully!\u001b[39m\u001b[33m\"\u001b[39m)\n\u001b[32m      9\u001b[39m \u001b[38;5;28mprint\u001b[39m(\u001b[33m\"\u001b[39m\u001b[33mTuple type:\u001b[39m\u001b[33m\"\u001b[39m, \u001b[38;5;28mtuple\u001b[39m)  \u001b[38;5;66;03m# Note: 'Tuple' was undefined; I assume you meant the built-in 'tuple'\u001b[39;00m\n",
      "\u001b[36mFile \u001b[39m\u001b[32m~\\AppData\\Local\\Packages\\PythonSoftwareFoundation.Python.3.12_qbz5n2kfra8p0\\LocalCache\\local-packages\\Python312\\site-packages\\ray\\_private\\client_mode_hook.py:104\u001b[39m, in \u001b[36mclient_mode_hook.<locals>.wrapper\u001b[39m\u001b[34m(*args, **kwargs)\u001b[39m\n\u001b[32m    102\u001b[39m     \u001b[38;5;28;01mif\u001b[39;00m func.\u001b[34m__name__\u001b[39m != \u001b[33m\"\u001b[39m\u001b[33minit\u001b[39m\u001b[33m\"\u001b[39m \u001b[38;5;129;01mor\u001b[39;00m is_client_mode_enabled_by_default:\n\u001b[32m    103\u001b[39m         \u001b[38;5;28;01mreturn\u001b[39;00m \u001b[38;5;28mgetattr\u001b[39m(ray, func.\u001b[34m__name__\u001b[39m)(*args, **kwargs)\n\u001b[32m--> \u001b[39m\u001b[32m104\u001b[39m \u001b[38;5;28;01mreturn\u001b[39;00m \u001b[43mfunc\u001b[49m\u001b[43m(\u001b[49m\u001b[43m*\u001b[49m\u001b[43margs\u001b[49m\u001b[43m,\u001b[49m\u001b[43m \u001b[49m\u001b[43m*\u001b[49m\u001b[43m*\u001b[49m\u001b[43mkwargs\u001b[49m\u001b[43m)\u001b[49m\n",
      "\u001b[36mFile \u001b[39m\u001b[32m~\\AppData\\Local\\Packages\\PythonSoftwareFoundation.Python.3.12_qbz5n2kfra8p0\\LocalCache\\local-packages\\Python312\\site-packages\\ray\\_private\\worker.py:1809\u001b[39m, in \u001b[36minit\u001b[39m\u001b[34m(address, num_cpus, num_gpus, resources, labels, object_store_memory, local_mode, ignore_reinit_error, include_dashboard, dashboard_host, dashboard_port, job_config, configure_logging, logging_level, logging_format, logging_config, log_to_driver, namespace, runtime_env, storage, enable_resource_isolation, system_reserved_cpu, system_reserved_memory, **kwargs)\u001b[39m\n\u001b[32m   1774\u001b[39m     ray_params = ray._private.parameter.RayParams(\n\u001b[32m   1775\u001b[39m         node_ip_address=_node_ip_address,\n\u001b[32m   1776\u001b[39m         object_ref_seed=\u001b[38;5;28;01mNone\u001b[39;00m,\n\u001b[32m   (...)\u001b[39m\u001b[32m   1803\u001b[39m         resource_isolation_config=resource_isolation_config,\n\u001b[32m   1804\u001b[39m     )\n\u001b[32m   1805\u001b[39m     \u001b[38;5;66;03m# Start the Ray processes. We set shutdown_at_exit=False because we\u001b[39;00m\n\u001b[32m   1806\u001b[39m     \u001b[38;5;66;03m# shutdown the node in the ray.shutdown call that happens in the atexit\u001b[39;00m\n\u001b[32m   1807\u001b[39m     \u001b[38;5;66;03m# handler. We still spawn a reaper process in case the atexit handler\u001b[39;00m\n\u001b[32m   1808\u001b[39m     \u001b[38;5;66;03m# isn't called.\u001b[39;00m\n\u001b[32m-> \u001b[39m\u001b[32m1809\u001b[39m     _global_node = \u001b[43mray\u001b[49m\u001b[43m.\u001b[49m\u001b[43m_private\u001b[49m\u001b[43m.\u001b[49m\u001b[43mnode\u001b[49m\u001b[43m.\u001b[49m\u001b[43mNode\u001b[49m\u001b[43m(\u001b[49m\n\u001b[32m   1810\u001b[39m \u001b[43m        \u001b[49m\u001b[43mray_params\u001b[49m\u001b[43m=\u001b[49m\u001b[43mray_params\u001b[49m\u001b[43m,\u001b[49m\n\u001b[32m   1811\u001b[39m \u001b[43m        \u001b[49m\u001b[43mhead\u001b[49m\u001b[43m=\u001b[49m\u001b[38;5;28;43;01mTrue\u001b[39;49;00m\u001b[43m,\u001b[49m\n\u001b[32m   1812\u001b[39m \u001b[43m        \u001b[49m\u001b[43mshutdown_at_exit\u001b[49m\u001b[43m=\u001b[49m\u001b[38;5;28;43;01mFalse\u001b[39;49;00m\u001b[43m,\u001b[49m\n\u001b[32m   1813\u001b[39m \u001b[43m        \u001b[49m\u001b[43mspawn_reaper\u001b[49m\u001b[43m=\u001b[49m\u001b[38;5;28;43;01mTrue\u001b[39;49;00m\u001b[43m,\u001b[49m\n\u001b[32m   1814\u001b[39m \u001b[43m        \u001b[49m\u001b[43mray_init_cluster\u001b[49m\u001b[43m=\u001b[49m\u001b[38;5;28;43;01mTrue\u001b[39;49;00m\u001b[43m,\u001b[49m\n\u001b[32m   1815\u001b[39m \u001b[43m    \u001b[49m\u001b[43m)\u001b[49m\n\u001b[32m   1816\u001b[39m \u001b[38;5;28;01melse\u001b[39;00m:\n\u001b[32m   1817\u001b[39m     \u001b[38;5;66;03m# In this case, we are connecting to an existing cluster.\u001b[39;00m\n\u001b[32m   1818\u001b[39m     \u001b[38;5;28;01mif\u001b[39;00m num_cpus \u001b[38;5;129;01mis\u001b[39;00m \u001b[38;5;129;01mnot\u001b[39;00m \u001b[38;5;28;01mNone\u001b[39;00m \u001b[38;5;129;01mor\u001b[39;00m num_gpus \u001b[38;5;129;01mis\u001b[39;00m \u001b[38;5;129;01mnot\u001b[39;00m \u001b[38;5;28;01mNone\u001b[39;00m:\n",
      "\u001b[36mFile \u001b[39m\u001b[32m~\\AppData\\Local\\Packages\\PythonSoftwareFoundation.Python.3.12_qbz5n2kfra8p0\\LocalCache\\local-packages\\Python312\\site-packages\\ray\\_private\\node.py:364\u001b[39m, in \u001b[36mNode.__init__\u001b[39m\u001b[34m(self, ray_params, head, shutdown_at_exit, spawn_reaper, connect_only, default_worker, ray_init_cluster)\u001b[39m\n\u001b[32m    362\u001b[39m \u001b[38;5;66;03m# Start processes.\u001b[39;00m\n\u001b[32m    363\u001b[39m \u001b[38;5;28;01mif\u001b[39;00m head:\n\u001b[32m--> \u001b[39m\u001b[32m364\u001b[39m     \u001b[38;5;28;43mself\u001b[39;49m\u001b[43m.\u001b[49m\u001b[43mstart_head_processes\u001b[49m\u001b[43m(\u001b[49m\u001b[43m)\u001b[49m\n\u001b[32m    366\u001b[39m \u001b[38;5;28;01mif\u001b[39;00m \u001b[38;5;129;01mnot\u001b[39;00m connect_only:\n\u001b[32m    367\u001b[39m     \u001b[38;5;28mself\u001b[39m.start_ray_processes()\n",
      "\u001b[36mFile \u001b[39m\u001b[32m~\\AppData\\Local\\Packages\\PythonSoftwareFoundation.Python.3.12_qbz5n2kfra8p0\\LocalCache\\local-packages\\Python312\\site-packages\\ray\\_private\\node.py:1463\u001b[39m, in \u001b[36mNode.start_head_processes\u001b[39m\u001b[34m(self)\u001b[39m\n\u001b[32m   1460\u001b[39m \u001b[38;5;28mself\u001b[39m._write_cluster_info_to_kv()\n\u001b[32m   1462\u001b[39m \u001b[38;5;28;01mif\u001b[39;00m \u001b[38;5;129;01mnot\u001b[39;00m \u001b[38;5;28mself\u001b[39m._ray_params.no_monitor:\n\u001b[32m-> \u001b[39m\u001b[32m1463\u001b[39m     \u001b[38;5;28;43mself\u001b[39;49m\u001b[43m.\u001b[49m\u001b[43mstart_monitor\u001b[49m\u001b[43m(\u001b[49m\u001b[43m)\u001b[49m\n\u001b[32m   1465\u001b[39m \u001b[38;5;28;01mif\u001b[39;00m \u001b[38;5;28mself\u001b[39m._ray_params.ray_client_server_port:\n\u001b[32m   1466\u001b[39m     \u001b[38;5;28mself\u001b[39m.start_ray_client_server()\n",
      "\u001b[36mFile \u001b[39m\u001b[32m~\\AppData\\Local\\Packages\\PythonSoftwareFoundation.Python.3.12_qbz5n2kfra8p0\\LocalCache\\local-packages\\Python312\\site-packages\\ray\\_private\\node.py:1356\u001b[39m, in \u001b[36mNode.start_monitor\u001b[39m\u001b[34m(self)\u001b[39m\n\u001b[32m   1351\u001b[39m \u001b[38;5;28;01mfrom\u001b[39;00m\u001b[38;5;250m \u001b[39m\u001b[34;01mray\u001b[39;00m\u001b[34;01m.\u001b[39;00m\u001b[34;01mautoscaler\u001b[39;00m\u001b[34;01m.\u001b[39;00m\u001b[34;01mv2\u001b[39;00m\u001b[34;01m.\u001b[39;00m\u001b[34;01mutils\u001b[39;00m\u001b[38;5;250m \u001b[39m\u001b[38;5;28;01mimport\u001b[39;00m is_autoscaler_v2\n\u001b[32m   1353\u001b[39m stdout_log_fname, stderr_log_fname = \u001b[38;5;28mself\u001b[39m.get_log_file_names(\n\u001b[32m   1354\u001b[39m     \u001b[33m\"\u001b[39m\u001b[33mmonitor\u001b[39m\u001b[33m\"\u001b[39m, unique=\u001b[38;5;28;01mTrue\u001b[39;00m, create_out=\u001b[38;5;28;01mTrue\u001b[39;00m, create_err=\u001b[38;5;28;01mTrue\u001b[39;00m\n\u001b[32m   1355\u001b[39m )\n\u001b[32m-> \u001b[39m\u001b[32m1356\u001b[39m process_info = \u001b[43mray\u001b[49m\u001b[43m.\u001b[49m\u001b[43m_private\u001b[49m\u001b[43m.\u001b[49m\u001b[43mservices\u001b[49m\u001b[43m.\u001b[49m\u001b[43mstart_monitor\u001b[49m\u001b[43m(\u001b[49m\n\u001b[32m   1357\u001b[39m \u001b[43m    \u001b[49m\u001b[38;5;28;43mself\u001b[39;49m\u001b[43m.\u001b[49m\u001b[43mgcs_address\u001b[49m\u001b[43m,\u001b[49m\n\u001b[32m   1358\u001b[39m \u001b[43m    \u001b[49m\u001b[38;5;28;43mself\u001b[39;49m\u001b[43m.\u001b[49m\u001b[43m_logs_dir\u001b[49m\u001b[43m,\u001b[49m\n\u001b[32m   1359\u001b[39m \u001b[43m    \u001b[49m\u001b[43mstdout_filepath\u001b[49m\u001b[43m=\u001b[49m\u001b[43mstdout_log_fname\u001b[49m\u001b[43m,\u001b[49m\n\u001b[32m   1360\u001b[39m \u001b[43m    \u001b[49m\u001b[43mstderr_filepath\u001b[49m\u001b[43m=\u001b[49m\u001b[43mstderr_log_fname\u001b[49m\u001b[43m,\u001b[49m\n\u001b[32m   1361\u001b[39m \u001b[43m    \u001b[49m\u001b[43mautoscaling_config\u001b[49m\u001b[43m=\u001b[49m\u001b[38;5;28;43mself\u001b[39;49m\u001b[43m.\u001b[49m\u001b[43m_ray_params\u001b[49m\u001b[43m.\u001b[49m\u001b[43mautoscaling_config\u001b[49m\u001b[43m,\u001b[49m\n\u001b[32m   1362\u001b[39m \u001b[43m    \u001b[49m\u001b[43mfate_share\u001b[49m\u001b[43m=\u001b[49m\u001b[38;5;28;43mself\u001b[39;49m\u001b[43m.\u001b[49m\u001b[43mkernel_fate_share\u001b[49m\u001b[43m,\u001b[49m\n\u001b[32m   1363\u001b[39m \u001b[43m    \u001b[49m\u001b[43mmax_bytes\u001b[49m\u001b[43m=\u001b[49m\u001b[38;5;28;43mself\u001b[39;49m\u001b[43m.\u001b[49m\u001b[43mmax_bytes\u001b[49m\u001b[43m,\u001b[49m\n\u001b[32m   1364\u001b[39m \u001b[43m    \u001b[49m\u001b[43mbackup_count\u001b[49m\u001b[43m=\u001b[49m\u001b[38;5;28;43mself\u001b[39;49m\u001b[43m.\u001b[49m\u001b[43mbackup_count\u001b[49m\u001b[43m,\u001b[49m\n\u001b[32m   1365\u001b[39m \u001b[43m    \u001b[49m\u001b[43mmonitor_ip\u001b[49m\u001b[43m=\u001b[49m\u001b[38;5;28;43mself\u001b[39;49m\u001b[43m.\u001b[49m\u001b[43m_node_ip_address\u001b[49m\u001b[43m,\u001b[49m\n\u001b[32m   1366\u001b[39m \u001b[43m    \u001b[49m\u001b[43mautoscaler_v2\u001b[49m\u001b[43m=\u001b[49m\u001b[43mis_autoscaler_v2\u001b[49m\u001b[43m(\u001b[49m\u001b[43mfetch_from_server\u001b[49m\u001b[43m=\u001b[49m\u001b[38;5;28;43;01mTrue\u001b[39;49;00m\u001b[43m)\u001b[49m\u001b[43m,\u001b[49m\n\u001b[32m   1367\u001b[39m \u001b[43m\u001b[49m\u001b[43m)\u001b[49m\n\u001b[32m   1368\u001b[39m \u001b[38;5;28;01massert\u001b[39;00m ray_constants.PROCESS_TYPE_MONITOR \u001b[38;5;129;01mnot\u001b[39;00m \u001b[38;5;129;01min\u001b[39;00m \u001b[38;5;28mself\u001b[39m.all_processes\n\u001b[32m   1369\u001b[39m \u001b[38;5;28mself\u001b[39m.all_processes[ray_constants.PROCESS_TYPE_MONITOR] = [process_info]\n",
      "\u001b[36mFile \u001b[39m\u001b[32m~\\AppData\\Local\\Packages\\PythonSoftwareFoundation.Python.3.12_qbz5n2kfra8p0\\LocalCache\\local-packages\\Python312\\site-packages\\ray\\_private\\services.py:2316\u001b[39m, in \u001b[36mstart_monitor\u001b[39m\u001b[34m(gcs_address, logs_dir, stdout_filepath, stderr_filepath, autoscaling_config, fate_share, max_bytes, backup_count, monitor_ip, autoscaler_v2)\u001b[39m\n\u001b[32m   2313\u001b[39m \u001b[38;5;28;01mif\u001b[39;00m stderr_filepath:\n\u001b[32m   2314\u001b[39m     stderr_file = \u001b[38;5;28mopen\u001b[39m(os.devnull, \u001b[33m\"\u001b[39m\u001b[33mw\u001b[39m\u001b[33m\"\u001b[39m)\n\u001b[32m-> \u001b[39m\u001b[32m2316\u001b[39m process_info = \u001b[43mstart_ray_process\u001b[49m\u001b[43m(\u001b[49m\n\u001b[32m   2317\u001b[39m \u001b[43m    \u001b[49m\u001b[43mcommand\u001b[49m\u001b[43m,\u001b[49m\n\u001b[32m   2318\u001b[39m \u001b[43m    \u001b[49m\u001b[43mray_constants\u001b[49m\u001b[43m.\u001b[49m\u001b[43mPROCESS_TYPE_MONITOR\u001b[49m\u001b[43m,\u001b[49m\n\u001b[32m   2319\u001b[39m \u001b[43m    \u001b[49m\u001b[43mstdout_file\u001b[49m\u001b[43m=\u001b[49m\u001b[43mstdout_file\u001b[49m\u001b[43m,\u001b[49m\n\u001b[32m   2320\u001b[39m \u001b[43m    \u001b[49m\u001b[43mstderr_file\u001b[49m\u001b[43m=\u001b[49m\u001b[43mstderr_file\u001b[49m\u001b[43m,\u001b[49m\n\u001b[32m   2321\u001b[39m \u001b[43m    \u001b[49m\u001b[43mfate_share\u001b[49m\u001b[43m=\u001b[49m\u001b[43mfate_share\u001b[49m\u001b[43m,\u001b[49m\n\u001b[32m   2322\u001b[39m \u001b[43m\u001b[49m\u001b[43m)\u001b[49m\n\u001b[32m   2323\u001b[39m \u001b[38;5;28;01mreturn\u001b[39;00m process_info\n",
      "\u001b[36mFile \u001b[39m\u001b[32m~\\AppData\\Local\\Packages\\PythonSoftwareFoundation.Python.3.12_qbz5n2kfra8p0\\LocalCache\\local-packages\\Python312\\site-packages\\ray\\_private\\services.py:1022\u001b[39m, in \u001b[36mstart_ray_process\u001b[39m\u001b[34m(command, process_type, fate_share, env_updates, cwd, use_valgrind, use_gdb, use_valgrind_profiler, use_perftools_profiler, use_tmux, stdout_file, stderr_file, pipe_stdin)\u001b[39m\n\u001b[32m   1020\u001b[39m \u001b[38;5;28;01mif\u001b[39;00m win32_fate_sharing:\n\u001b[32m   1021\u001b[39m     \u001b[38;5;28;01mtry\u001b[39;00m:\n\u001b[32m-> \u001b[39m\u001b[32m1022\u001b[39m         \u001b[43mray\u001b[49m\u001b[43m.\u001b[49m\u001b[43m_private\u001b[49m\u001b[43m.\u001b[49m\u001b[43mutils\u001b[49m\u001b[43m.\u001b[49m\u001b[43mset_kill_child_on_death_win32\u001b[49m\u001b[43m(\u001b[49m\u001b[43mprocess\u001b[49m\u001b[43m)\u001b[49m\n\u001b[32m   1023\u001b[39m         psutil.Process(process.pid).resume()\n\u001b[32m   1024\u001b[39m     \u001b[38;5;28;01mexcept\u001b[39;00m (psutil.Error, \u001b[38;5;167;01mOSError\u001b[39;00m):\n",
      "\u001b[36mFile \u001b[39m\u001b[32m~\\AppData\\Local\\Packages\\PythonSoftwareFoundation.Python.3.12_qbz5n2kfra8p0\\LocalCache\\local-packages\\Python312\\site-packages\\ray\\_private\\utils.py:919\u001b[39m, in \u001b[36mset_kill_child_on_death_win32\u001b[39m\u001b[34m(child_proc)\u001b[39m\n\u001b[32m    916\u001b[39m     \u001b[38;5;28;01mif\u001b[39;00m \u001b[38;5;129;01mnot\u001b[39;00m win32_AssignProcessToJobObject(win32_job, \u001b[38;5;28mint\u001b[39m(child_proc)):\n\u001b[32m    917\u001b[39m         \u001b[38;5;28;01mimport\u001b[39;00m\u001b[38;5;250m \u001b[39m\u001b[34;01mctypes\u001b[39;00m\n\u001b[32m--> \u001b[39m\u001b[32m919\u001b[39m         \u001b[38;5;28;01mraise\u001b[39;00m \u001b[38;5;167;01mOSError\u001b[39;00m(ctypes.get_last_error(), \u001b[33m\"\u001b[39m\u001b[33mAssignProcessToJobObject() failed\u001b[39m\u001b[33m\"\u001b[39m)\n\u001b[32m    920\u001b[39m \u001b[38;5;28;01melse\u001b[39;00m:\n\u001b[32m    921\u001b[39m     \u001b[38;5;28;01massert\u001b[39;00m \u001b[38;5;28;01mFalse\u001b[39;00m, \u001b[33m\"\u001b[39m\u001b[33mAssignProcessToJobObject used despite being unavailable\u001b[39m\u001b[33m\"\u001b[39m\n",
      "\u001b[31mOSError\u001b[39m: [Errno 0] AssignProcessToJobObject() failed"
     ]
    }
   ],
   "source": [
    "import ray\n",
    "from sklearn.metrics import silhouette_score\n",
    "\n",
    "# Ensure any previous Ray instance is shut down\n",
    "ray.shutdown()\n",
    "ray.init(dashboard_port=None, include_dashboard=False)\n",
    "\n",
    "print(\"Flower is installed successfully!\")\n",
    "print(\"Tuple type:\", tuple)  # Note: 'Tuple' was undefined; I assume you meant the built-in 'tuple'"
   ]
  },
  {
   "cell_type": "code",
   "execution_count": null,
   "id": "80ea7f21",
   "metadata": {},
   "outputs": [
    {
     "name": "stdout",
     "output_type": "stream",
     "text": [
      "Warning: 'Percentage' column not found in CSV. Setting to 0.\n",
      "Warning: 'Value' column not found. Setting to 0.\n",
      "                                                   Transaction Hash  \\\n",
      "0x4932f4925b771a3f98677b667a28d79f2dd27357b6edb...          Success   \n",
      "0x8b005cede641fb4dd658e777e6ec93cefec778d0a54d6...          Success   \n",
      "0xdfa4cc78a21ef5804bbdf7cdae3e8d5847a53c5b949d2...          Success   \n",
      "0xdfa4cc78a21ef5804bbdf7cdae3e8d5847a53c5b949d2...          Success   \n",
      "0xdfa4cc78a21ef5804bbdf7cdae3e8d5847a53c5b949d2...          Success   \n",
      "\n",
      "                                                        Status    Method  \\\n",
      "0x4932f4925b771a3f98677b667a28d79f2dd27357b6edb...    Transfer  22672601   \n",
      "0x8b005cede641fb4dd658e777e6ec93cefec778d0a54d6...     Deposit  22672601   \n",
      "0xdfa4cc78a21ef5804bbdf7cdae3e8d5847a53c5b949d2...  0x2213bc0b  22672601   \n",
      "0xdfa4cc78a21ef5804bbdf7cdae3e8d5847a53c5b949d2...  0x2213bc0b  22672601   \n",
      "0xdfa4cc78a21ef5804bbdf7cdae3e8d5847a53c5b949d2...  0x2213bc0b  22672601   \n",
      "\n",
      "                                                                BlockNo  \\\n",
      "0x4932f4925b771a3f98677b667a28d79f2dd27357b6edb...  2025-06-10 07:14:23   \n",
      "0x8b005cede641fb4dd658e777e6ec93cefec778d0a54d6...  2025-06-10 07:14:23   \n",
      "0xdfa4cc78a21ef5804bbdf7cdae3e8d5847a53c5b949d2...  2025-06-10 07:14:23   \n",
      "0xdfa4cc78a21ef5804bbdf7cdae3e8d5847a53c5b949d2...  2025-06-10 07:14:23   \n",
      "0xdfa4cc78a21ef5804bbdf7cdae3e8d5847a53c5b949d2...  2025-06-10 07:14:23   \n",
      "\n",
      "                                                                                DateTime (UTC)  \\\n",
      "0x4932f4925b771a3f98677b667a28d79f2dd27357b6edb...  0x26261D5fC06de4d39F253D05a58E62B48750Aa6D   \n",
      "0x8b005cede641fb4dd658e777e6ec93cefec778d0a54d6...  0xe52520062163c37Bd1920808F66cF0009e8Ff3bd   \n",
      "0xdfa4cc78a21ef5804bbdf7cdae3e8d5847a53c5b949d2...  0x5418226aF9C8d5D287A78FbBbCD337b86ec07D61   \n",
      "0xdfa4cc78a21ef5804bbdf7cdae3e8d5847a53c5b949d2...  0x5418226aF9C8d5D287A78FbBbCD337b86ec07D61   \n",
      "0xdfa4cc78a21ef5804bbdf7cdae3e8d5847a53c5b949d2...  0xBB289bC97591F70D8216462DF40ED713011B968a   \n",
      "\n",
      "                                                   From  \\\n",
      "0x4932f4925b771a3f98677b667a28d79f2dd27357b6edb...  NaN   \n",
      "0x8b005cede641fb4dd658e777e6ec93cefec778d0a54d6...  NaN   \n",
      "0xdfa4cc78a21ef5804bbdf7cdae3e8d5847a53c5b949d2...  NaN   \n",
      "0xdfa4cc78a21ef5804bbdf7cdae3e8d5847a53c5b949d2...  NaN   \n",
      "0xdfa4cc78a21ef5804bbdf7cdae3e8d5847a53c5b949d2...  NaN   \n",
      "\n",
      "                                                                                  From_Nametag  \\\n",
      "0x4932f4925b771a3f98677b667a28d79f2dd27357b6edb...  0x8c018fE62835615565D5fbe28e6bAc6960888F4D   \n",
      "0x8b005cede641fb4dd658e777e6ec93cefec778d0a54d6...  0xd5255Cc08EBAf6D54ac9448822a18d8A3da29A42   \n",
      "0xdfa4cc78a21ef5804bbdf7cdae3e8d5847a53c5b949d2...  0x0dBecaD6cDC77079Bb8A9758555065240164a008   \n",
      "0xdfa4cc78a21ef5804bbdf7cdae3e8d5847a53c5b949d2...  0x7AfA9D836d2fCCf172b66622625e56404E465dBD   \n",
      "0xdfa4cc78a21ef5804bbdf7cdae3e8d5847a53c5b949d2...  0x5418226aF9C8d5D287A78FbBbCD337b86ec07D61   \n",
      "\n",
      "                                                     To     To_Nametag  \\\n",
      "0x4932f4925b771a3f98677b667a28d79f2dd27357b6edb...  NaN  54,602.719796   \n",
      "0x8b005cede641fb4dd658e777e6ec93cefec778d0a54d6...  NaN     998.826362   \n",
      "0xdfa4cc78a21ef5804bbdf7cdae3e8d5847a53c5b949d2...  NaN       3.513046   \n",
      "0xdfa4cc78a21ef5804bbdf7cdae3e8d5847a53c5b949d2...  NaN       0.030116   \n",
      "0xdfa4cc78a21ef5804bbdf7cdae3e8d5847a53c5b949d2...  NaN       3.543162   \n",
      "\n",
      "                                                    Amount  Value (USD)  \\\n",
      "0x4932f4925b771a3f98677b667a28d79f2dd27357b6edb...     NaN          NaN   \n",
      "0x8b005cede641fb4dd658e777e6ec93cefec778d0a54d6...     NaN          NaN   \n",
      "0xdfa4cc78a21ef5804bbdf7cdae3e8d5847a53c5b949d2...     NaN          NaN   \n",
      "0xdfa4cc78a21ef5804bbdf7cdae3e8d5847a53c5b949d2...     NaN          NaN   \n",
      "0xdfa4cc78a21ef5804bbdf7cdae3e8d5847a53c5b949d2...     NaN          NaN   \n",
      "\n",
      "                                                    Percentage  Value  \n",
      "0x4932f4925b771a3f98677b667a28d79f2dd27357b6edb...         0.0    0.0  \n",
      "0x8b005cede641fb4dd658e777e6ec93cefec778d0a54d6...         0.0    0.0  \n",
      "0xdfa4cc78a21ef5804bbdf7cdae3e8d5847a53c5b949d2...         0.0    0.0  \n",
      "0xdfa4cc78a21ef5804bbdf7cdae3e8d5847a53c5b949d2...         0.0    0.0  \n",
      "0xdfa4cc78a21ef5804bbdf7cdae3e8d5847a53c5b949d2...         0.0    0.0  \n"
     ]
    }
   ],
   "source": [
    "#Preprocessing the data again for percentage and value\n",
    "# Preprocessing the data again for percentage and value\n",
    "df = pd.read_csv('data.csv')\n",
    "\n",
    "# Handle 'Percentage' column (if it doesn't exist, set a default value)\n",
    "if 'Percentage' in df.columns:\n",
    "    df['Percentage'] = df['Percentage'].str.rstrip('%').astype(float)\n",
    "else:\n",
    "    print(\"Warning: 'Percentage' column not found in CSV. Setting to 0.\")\n",
    "    df['Percentage'] = 0.0  # Default value; adjust as needed\n",
    "\n",
    "# Handle 'Value' column\n",
    "if 'Value' in df.columns:\n",
    "    df['Value'] = df['Value'].str.replace('$', '', regex=False).str.replace(',', '', regex=False).astype(float)\n",
    "else:\n",
    "    print(\"Warning: 'Value' column not found. Setting to 0.\")\n",
    "    df['Value'] = 0.0  # Default value; adjust as needed\n",
    "\n",
    "# Use 'Amount' instead of 'Quantity'\n",
    "if 'Amount' in df.columns:\n",
    "    df['Amount'] = pd.to_numeric(df['Amount'], errors='coerce')\n",
    "else:\n",
    "    print(\"Warning: 'Amount' column not found. Setting to 0.\")\n",
    "    df['Amount'] = 0.0  # Default value; adjust as needed\n",
    "\n",
    "# Display the updated DataFrame to verify\n",
    "print(df.head())"
   ]
  },
  {
   "cell_type": "code",
   "execution_count": 19,
   "id": "be4b01e5",
   "metadata": {},
   "outputs": [
    {
     "name": "stdout",
     "output_type": "stream",
     "text": [
      "Warning: Some Amount values could not be converted to numeric. Replacing NaN with 0.\n",
      "Amount column data type: float64\n",
      "                                                    Amount  Percentage  Value\n",
      "0x4932f4925b771a3f98677b667a28d79f2dd27357b6edb...     0.0         0.0    0.0\n",
      "0x8b005cede641fb4dd658e777e6ec93cefec778d0a54d6...     0.0         0.0    0.0\n",
      "0xdfa4cc78a21ef5804bbdf7cdae3e8d5847a53c5b949d2...     0.0         0.0    0.0\n",
      "0xdfa4cc78a21ef5804bbdf7cdae3e8d5847a53c5b949d2...     0.0         0.0    0.0\n",
      "0xdfa4cc78a21ef5804bbdf7cdae3e8d5847a53c5b949d2...     0.0         0.0    0.0\n"
     ]
    }
   ],
   "source": [
    "# Check for NaN values after conversion\n",
    "if df['Amount'].isna().any():\n",
    "    print(\"Warning: Some Amount values could not be converted to numeric. Replacing NaN with 0.\")\n",
    "    df['Amount'] = df['Amount'].fillna(0)\n",
    "\n",
    "# Verify the data type\n",
    "print(\"Amount column data type:\", df['Amount'].dtype)\n",
    "print(df[['Amount', 'Percentage', 'Value']].head())"
   ]
  },
  {
   "cell_type": "code",
   "execution_count": 20,
   "id": "485c0679",
   "metadata": {},
   "outputs": [
    {
     "name": "stdout",
     "output_type": "stream",
     "text": [
      "Feature variance: Amount    0.0\n",
      "Value     0.0\n",
      "dtype: float64\n"
     ]
    }
   ],
   "source": [
    "#feature scaling percentage and value\n",
    "# Reason: Quantity (absolute) and Percentage (relative) provide complementary information,\n",
    "# leading to better clustering results compared to Quantity and Value (which are highly correlated)\n",
    "feature_to_scale= df[['Amount','Value']]\n",
    "scaler= MinMaxScaler()\n",
    "scaler_data=scaler.fit_transform(feature_to_scale)\n",
    "print(\"Feature variance:\",feature_to_scale.var())"
   ]
  },
  {
   "cell_type": "code",
   "execution_count": 32,
   "id": "79c3e3cc",
   "metadata": {},
   "outputs": [
    {
     "name": "stdout",
     "output_type": "stream",
     "text": [
      "From_Nametag mask sum: 0\n",
      "No Binance-related data found in 'From_Nametag'. Checking 'To_Nametag'.\n",
      "To_Nametag mask sum: 0\n"
     ]
    },
    {
     "ename": "AttributeError",
     "evalue": "Can only use .str accessor with string values!",
     "output_type": "error",
     "traceback": [
      "\u001b[31m---------------------------------------------------------------------------\u001b[39m",
      "\u001b[31mAttributeError\u001b[39m                            Traceback (most recent call last)",
      "\u001b[36mCell\u001b[39m\u001b[36m \u001b[39m\u001b[32mIn[32]\u001b[39m\u001b[32m, line 29\u001b[39m\n\u001b[32m     27\u001b[39m df_clean = df[[\u001b[33m'\u001b[39m\u001b[33mAmount\u001b[39m\u001b[33m'\u001b[39m, \u001b[33m'\u001b[39m\u001b[33mValue (USD)\u001b[39m\u001b[33m'\u001b[39m]].copy()\n\u001b[32m     28\u001b[39m df_clean[\u001b[33m'\u001b[39m\u001b[33mAmount\u001b[39m\u001b[33m'\u001b[39m] = pd.to_numeric(df_clean[\u001b[33m'\u001b[39m\u001b[33mAmount\u001b[39m\u001b[33m'\u001b[39m], errors=\u001b[33m'\u001b[39m\u001b[33mcoerce\u001b[39m\u001b[33m'\u001b[39m)\n\u001b[32m---> \u001b[39m\u001b[32m29\u001b[39m df_clean[\u001b[33m'\u001b[39m\u001b[33mValue (USD)\u001b[39m\u001b[33m'\u001b[39m] = \u001b[43mdf_clean\u001b[49m\u001b[43m[\u001b[49m\u001b[33;43m'\u001b[39;49m\u001b[33;43mValue (USD)\u001b[39;49m\u001b[33;43m'\u001b[39;49m\u001b[43m]\u001b[49m\u001b[43m.\u001b[49m\u001b[43mstr\u001b[49m.replace(\u001b[33m'\u001b[39m\u001b[33m$\u001b[39m\u001b[33m'\u001b[39m, \u001b[33m'\u001b[39m\u001b[33m'\u001b[39m, regex=\u001b[38;5;28;01mFalse\u001b[39;00m).str.replace(\u001b[33m'\u001b[39m\u001b[33m,\u001b[39m\u001b[33m'\u001b[39m, \u001b[33m'\u001b[39m\u001b[33m'\u001b[39m, regex=\u001b[38;5;28;01mFalse\u001b[39;00m)\n\u001b[32m     30\u001b[39m df_clean[\u001b[33m'\u001b[39m\u001b[33mValue (USD)\u001b[39m\u001b[33m'\u001b[39m] = pd.to_numeric(df_clean[\u001b[33m'\u001b[39m\u001b[33mValue (USD)\u001b[39m\u001b[33m'\u001b[39m], errors=\u001b[33m'\u001b[39m\u001b[33mcoerce\u001b[39m\u001b[33m'\u001b[39m)\n\u001b[32m     31\u001b[39m df_clean = df_clean.dropna()  \u001b[38;5;66;03m# Drop rows with NaN\u001b[39;00m\n",
      "\u001b[36mFile \u001b[39m\u001b[32m~\\AppData\\Local\\Packages\\PythonSoftwareFoundation.Python.3.12_qbz5n2kfra8p0\\LocalCache\\local-packages\\Python312\\site-packages\\pandas\\core\\generic.py:6318\u001b[39m, in \u001b[36mNDFrame.__getattr__\u001b[39m\u001b[34m(self, name)\u001b[39m\n\u001b[32m   6311\u001b[39m \u001b[38;5;28;01mif\u001b[39;00m (\n\u001b[32m   6312\u001b[39m     name \u001b[38;5;129;01mnot\u001b[39;00m \u001b[38;5;129;01min\u001b[39;00m \u001b[38;5;28mself\u001b[39m._internal_names_set\n\u001b[32m   6313\u001b[39m     \u001b[38;5;129;01mand\u001b[39;00m name \u001b[38;5;129;01mnot\u001b[39;00m \u001b[38;5;129;01min\u001b[39;00m \u001b[38;5;28mself\u001b[39m._metadata\n\u001b[32m   6314\u001b[39m     \u001b[38;5;129;01mand\u001b[39;00m name \u001b[38;5;129;01mnot\u001b[39;00m \u001b[38;5;129;01min\u001b[39;00m \u001b[38;5;28mself\u001b[39m._accessors\n\u001b[32m   6315\u001b[39m     \u001b[38;5;129;01mand\u001b[39;00m \u001b[38;5;28mself\u001b[39m._info_axis._can_hold_identifiers_and_holds_name(name)\n\u001b[32m   6316\u001b[39m ):\n\u001b[32m   6317\u001b[39m     \u001b[38;5;28;01mreturn\u001b[39;00m \u001b[38;5;28mself\u001b[39m[name]\n\u001b[32m-> \u001b[39m\u001b[32m6318\u001b[39m \u001b[38;5;28;01mreturn\u001b[39;00m \u001b[38;5;28;43mobject\u001b[39;49m\u001b[43m.\u001b[49m\u001b[34;43m__getattribute__\u001b[39;49m\u001b[43m(\u001b[49m\u001b[38;5;28;43mself\u001b[39;49m\u001b[43m,\u001b[49m\u001b[43m \u001b[49m\u001b[43mname\u001b[49m\u001b[43m)\u001b[49m\n",
      "\u001b[36mFile \u001b[39m\u001b[32m~\\AppData\\Local\\Packages\\PythonSoftwareFoundation.Python.3.12_qbz5n2kfra8p0\\LocalCache\\local-packages\\Python312\\site-packages\\pandas\\core\\accessor.py:224\u001b[39m, in \u001b[36mCachedAccessor.__get__\u001b[39m\u001b[34m(self, obj, cls)\u001b[39m\n\u001b[32m    221\u001b[39m \u001b[38;5;28;01mif\u001b[39;00m obj \u001b[38;5;129;01mis\u001b[39;00m \u001b[38;5;28;01mNone\u001b[39;00m:\n\u001b[32m    222\u001b[39m     \u001b[38;5;66;03m# we're accessing the attribute of the class, i.e., Dataset.geo\u001b[39;00m\n\u001b[32m    223\u001b[39m     \u001b[38;5;28;01mreturn\u001b[39;00m \u001b[38;5;28mself\u001b[39m._accessor\n\u001b[32m--> \u001b[39m\u001b[32m224\u001b[39m accessor_obj = \u001b[38;5;28;43mself\u001b[39;49m\u001b[43m.\u001b[49m\u001b[43m_accessor\u001b[49m\u001b[43m(\u001b[49m\u001b[43mobj\u001b[49m\u001b[43m)\u001b[49m\n\u001b[32m    225\u001b[39m \u001b[38;5;66;03m# Replace the property with the accessor object. Inspired by:\u001b[39;00m\n\u001b[32m    226\u001b[39m \u001b[38;5;66;03m# https://www.pydanny.com/cached-property.html\u001b[39;00m\n\u001b[32m    227\u001b[39m \u001b[38;5;66;03m# We need to use object.__setattr__ because we overwrite __setattr__ on\u001b[39;00m\n\u001b[32m    228\u001b[39m \u001b[38;5;66;03m# NDFrame\u001b[39;00m\n\u001b[32m    229\u001b[39m \u001b[38;5;28mobject\u001b[39m.\u001b[34m__setattr__\u001b[39m(obj, \u001b[38;5;28mself\u001b[39m._name, accessor_obj)\n",
      "\u001b[36mFile \u001b[39m\u001b[32m~\\AppData\\Local\\Packages\\PythonSoftwareFoundation.Python.3.12_qbz5n2kfra8p0\\LocalCache\\local-packages\\Python312\\site-packages\\pandas\\core\\strings\\accessor.py:194\u001b[39m, in \u001b[36mStringMethods.__init__\u001b[39m\u001b[34m(self, data)\u001b[39m\n\u001b[32m    191\u001b[39m \u001b[38;5;28;01mdef\u001b[39;00m\u001b[38;5;250m \u001b[39m\u001b[34m__init__\u001b[39m(\u001b[38;5;28mself\u001b[39m, data) -> \u001b[38;5;28;01mNone\u001b[39;00m:\n\u001b[32m    192\u001b[39m     \u001b[38;5;28;01mfrom\u001b[39;00m\u001b[38;5;250m \u001b[39m\u001b[34;01mpandas\u001b[39;00m\u001b[34;01m.\u001b[39;00m\u001b[34;01mcore\u001b[39;00m\u001b[34;01m.\u001b[39;00m\u001b[34;01marrays\u001b[39;00m\u001b[34;01m.\u001b[39;00m\u001b[34;01mstring_\u001b[39;00m\u001b[38;5;250m \u001b[39m\u001b[38;5;28;01mimport\u001b[39;00m StringDtype\n\u001b[32m--> \u001b[39m\u001b[32m194\u001b[39m     \u001b[38;5;28mself\u001b[39m._inferred_dtype = \u001b[38;5;28;43mself\u001b[39;49m\u001b[43m.\u001b[49m\u001b[43m_validate\u001b[49m\u001b[43m(\u001b[49m\u001b[43mdata\u001b[49m\u001b[43m)\u001b[49m\n\u001b[32m    195\u001b[39m     \u001b[38;5;28mself\u001b[39m._is_categorical = \u001b[38;5;28misinstance\u001b[39m(data.dtype, CategoricalDtype)\n\u001b[32m    196\u001b[39m     \u001b[38;5;28mself\u001b[39m._is_string = \u001b[38;5;28misinstance\u001b[39m(data.dtype, StringDtype)\n",
      "\u001b[36mFile \u001b[39m\u001b[32m~\\AppData\\Local\\Packages\\PythonSoftwareFoundation.Python.3.12_qbz5n2kfra8p0\\LocalCache\\local-packages\\Python312\\site-packages\\pandas\\core\\strings\\accessor.py:248\u001b[39m, in \u001b[36mStringMethods._validate\u001b[39m\u001b[34m(data)\u001b[39m\n\u001b[32m    245\u001b[39m inferred_dtype = lib.infer_dtype(values, skipna=\u001b[38;5;28;01mTrue\u001b[39;00m)\n\u001b[32m    247\u001b[39m \u001b[38;5;28;01mif\u001b[39;00m inferred_dtype \u001b[38;5;129;01mnot\u001b[39;00m \u001b[38;5;129;01min\u001b[39;00m allowed_types:\n\u001b[32m--> \u001b[39m\u001b[32m248\u001b[39m     \u001b[38;5;28;01mraise\u001b[39;00m \u001b[38;5;167;01mAttributeError\u001b[39;00m(\u001b[33m\"\u001b[39m\u001b[33mCan only use .str accessor with string values!\u001b[39m\u001b[33m\"\u001b[39m)\n\u001b[32m    249\u001b[39m \u001b[38;5;28;01mreturn\u001b[39;00m inferred_dtype\n",
      "\u001b[31mAttributeError\u001b[39m: Can only use .str accessor with string values!"
     ]
    }
   ],
   "source": [
    "from sklearn.preprocessing import StandardScaler\n",
    "from sklearn.cluster import DBSCAN\n",
    "\n",
    "# Split into clients based on From_Nametag or To_Nametag\n",
    "if 'From_Nametag' in df.columns:\n",
    "    binance_mask = df['From_Nametag'].str.contains('Binance', na=False)\n",
    "    print(\"From_Nametag mask sum:\", binance_mask.sum())\n",
    "    if not binance_mask.any():\n",
    "        print(\"No Binance-related data found in 'From_Nametag'. Checking 'To_Nametag'.\")\n",
    "        if 'To_Nametag' in df.columns:\n",
    "            binance_mask = df['To_Nametag'].str.contains('Binance', na=False)\n",
    "            print(\"To_Nametag mask sum:\", binance_mask.sum())\n",
    "        else:\n",
    "            print(\"Warning: Neither 'From_Nametag' nor 'To_Nametag' contains Binance data.\")\n",
    "            binance_mask = pd.Series([False] * len(df))\n",
    "else:\n",
    "    print(\"Warning: 'From_Nametag' column not found. Checking 'To_Nametag'.\")\n",
    "    if 'To_Nametag' in df.columns:\n",
    "        binance_mask = df['To_Nametag'].str.contains('Binance', na=False)\n",
    "        print(\"To_Nametag mask sum:\", binance_mask.sum())\n",
    "    else:\n",
    "        print(\"Warning: Neither 'From_Nametag' nor 'To_Nametag' found. Using 'From' as fallback.\")\n",
    "        binance_mask = df['From'].str.contains('Binance', na=False)\n",
    "        print(\"From mask sum:\", binance_mask.sum())\n",
    "\n",
    "# Clean data before scaling\n",
    "df_clean = df[['Amount', 'Value (USD)']].copy()\n",
    "df_clean['Amount'] = pd.to_numeric(df_clean['Amount'], errors='coerce')\n",
    "df_clean['Value (USD)'] = df_clean['Value (USD)'].str.replace('$', '', regex=False).str.replace(',', '', regex=False)\n",
    "df_clean['Value (USD)'] = pd.to_numeric(df_clean['Value (USD)'], errors='coerce')\n",
    "df_clean = df_clean.dropna()  # Drop rows with NaN\n",
    "\n",
    "# Scale the cleaned data\n",
    "scaler = StandardScaler()\n",
    "scaler_data = scaler.fit_transform(df_clean)\n",
    "client_1_data = pd.DataFrame(scaler_data[binance_mask[df_clean.index]], columns=['Amount', 'Value (USD)'])\n",
    "\n",
    "print(\"Client 1 data shape:\", client_1_data.shape)\n",
    "if len(client_1_data) == 0:\n",
    "    print(\"No Binance-related data found after all checks. Using all cleaned data instead.\")\n",
    "    client_1_data = pd.DataFrame(scaler_data, columns=['Amount', 'Value (USD)'])\n",
    "    print(\"Using all data. New shape:\", client_1_data.shape)\n",
    "\n",
    "# Local DBSCAN clustering\n",
    "dbscan = DBSCAN(eps=0.5, min_samples=2).fit(client_1_data)\n",
    "labels = dbscan.labels_\n",
    "print(\"Cluster labels:\", labels)\n",
    "\n",
    "# Verify the result\n",
    "print(client_1_data.head())"
   ]
  },
  {
   "cell_type": "code",
   "execution_count": 24,
   "id": "77f400bc",
   "metadata": {},
   "outputs": [],
   "source": [
    "class KMeansClient(fl.client.NumPyClient):  #defiing the flower client\n",
    "    def __init__(self, data):\n",
    "        self.data = data\n",
    "        self.kmeans = KMeans(n_clusters=2, random_state=42)\n",
    "        print(f\"Client initialized with {len(self.data)} data points\")\n",
    "\n",
    "    def get_parameters(self, config: Dict[str, Scalar]) -> NDArrays:\n",
    "        print(\"Client get_parameters called\")\n",
    "        if hasattr(self.kmeans, 'cluster_centers_'):\n",
    "            return self.kmeans.cluster_centers_\n",
    "        self.kmeans.fit(self.data)\n",
    "        return self.kmeans.cluster_centers_\n",
    "\n",
    "    def fit(self, parameters: NDArrays, config: Dict[str, Scalar]) -> Tuple[NDArrays, int, Dict]:\n",
    "        print(\"Client fit called\")\n",
    "        if parameters is not None:\n",
    "            self.kmeans = KMeans(n_clusters=2, init=np.array(parameters), n_init=1, random_state=42)\n",
    "        self.kmeans.fit(self.data)\n",
    "        centers = self.kmeans.cluster_centers_\n",
    "        print(f\"Returning centers with shape: {centers.shape}\")\n",
    "        return centers, len(self.data), {}\n",
    "\n",
    "    def evaluate(self, parameters: NDArrays, config: Dict[str, Scalar]) -> Tuple[float, int, Dict]:\n",
    "        print(\"Client evaluate called\")\n",
    "        self.kmeans.cluster_centers_ = np.array(parameters)\n",
    "        labels = self.kmeans.predict(self.data)\n",
    "        return float(self.kmeans.inertia_), len(self.data), {}"
   ]
  },
  {
   "cell_type": "code",
   "execution_count": 25,
   "id": "b082141b",
   "metadata": {},
   "outputs": [
    {
     "name": "stdout",
     "output_type": "stream",
     "text": [
      "Strategy initialized\n"
     ]
    }
   ],
   "source": [
    "# Define a custom strategy to aggregate cluster centers\n",
    "class KMeansStrategy(fl.server.strategy.FedAvg):\n",
    "    def __init__(self):\n",
    "        super().__init__()\n",
    "        self.global_centers = None\n",
    "        print(\"Strategy initialized\")\n",
    "\n",
    "    def aggregate_fit(\n",
    "        self,\n",
    "        server_round: int,\n",
    "        results: list[Tuple[fl.server.client_proxy.ClientProxy, fl.common.FitRes]],\n",
    "        failures: list[Tuple[fl.server.client_proxy.ClientProxy, fl.common.FitRes]],\n",
    "    ) -> Tuple[Optional[NDArrays], Dict[str, Scalar]]:\n",
    "        print(f\"Server round {server_round}: aggregate_fit called\")\n",
    "        print(f\"Results: {len(results)}, Failures: {len(failures)}\")\n",
    "        if failures:\n",
    "            print(\"Failures occurred:\", failures)\n",
    "            return None, {}\n",
    "        aggregated_parameters, metrics = super().aggregate_fit(server_round, results, failures)\n",
    "        if aggregated_parameters is not None:\n",
    "            self.global_centers = np.array(aggregated_parameters)\n",
    "            print(f\"Global centers updated: {self.global_centers}\")\n",
    "        else:\n",
    "            print(\"Aggregation failed, no parameters returned\")\n",
    "        return aggregated_parameters, metrics\n",
    "\n",
    "strategy = KMeansStrategy()"
   ]
  },
  {
   "cell_type": "code",
   "execution_count": 26,
   "id": "71632368",
   "metadata": {},
   "outputs": [],
   "source": [
    "#Run Flower simulation\n",
    "def client_fn(cid: str):\n",
    "    if cid == \"0\":\n",
    "        return KMeansClient(client_1_data)\n",
    "    elif cid == \"1\":\n",
    "        return KMeansClient(client_2_data)\n",
    "    else:\n",
    "        return KMeansClient(client_3_data)\n",
    "    \n"
   ]
  },
  {
   "cell_type": "code",
   "execution_count": 27,
   "id": "7752bb8e",
   "metadata": {},
   "outputs": [
    {
     "name": "stderr",
     "output_type": "stream",
     "text": [
      "\u001b[93mWARNING \u001b[0m:   DEPRECATED FEATURE: flwr.simulation.start_simulation() is deprecated.\n",
      "\tInstead, use the `flwr run` CLI command to start a local simulation in your Flower app, as shown for example below:\n",
      "\n",
      "\t\t$ flwr new  # Create a new Flower app from a template\n",
      "\n",
      "\t\t$ flwr run  # Run the Flower app in Simulation Mode\n",
      "\n",
      "\tUsing `start_simulation()` is deprecated.\n",
      "\n",
      "            This is a deprecated feature. It will be removed\n",
      "            entirely in future versions of Flower.\n",
      "        \n",
      "\u001b[92mINFO \u001b[0m:      Starting Flower simulation, config: num_rounds=3, no round_timeout\n"
     ]
    },
    {
     "name": "stdout",
     "output_type": "stream",
     "text": [
      "Starting Flower simulation...\n",
      "Simulation failed with error: [Errno 0] AssignProcessToJobObject() failed\n"
     ]
    }
   ],
   "source": [
    "print(\"Starting Flower simulation...\")\n",
    "\n",
    "try:\n",
    "    fl.simulation.start_simulation(\n",
    "        client_fn=client_fn,\n",
    "        num_clients=3,\n",
    "        client_resources={\"num_cpus\": 1},\n",
    "        config=fl.server.ServerConfig(num_rounds=3),\n",
    "        strategy=strategy,\n",
    "    )\n",
    "    print(\"Simulation completed successfully\")\n",
    "except Exception as e:\n",
    "    print(f\"Simulation failed with error: {e}\")"
   ]
  },
  {
   "cell_type": "code",
   "execution_count": 29,
   "id": "00191932",
   "metadata": {},
   "outputs": [
    {
     "name": "stderr",
     "output_type": "stream",
     "text": [
      "\u001b[93mWARNING \u001b[0m:   DEPRECATED FEATURE: flwr.simulation.start_simulation() is deprecated.\n",
      "\tInstead, use the `flwr run` CLI command to start a local simulation in your Flower app, as shown for example below:\n",
      "\n",
      "\t\t$ flwr new  # Create a new Flower app from a template\n",
      "\n",
      "\t\t$ flwr run  # Run the Flower app in Simulation Mode\n",
      "\n",
      "\tUsing `start_simulation()` is deprecated.\n",
      "\n",
      "            This is a deprecated feature. It will be removed\n",
      "            entirely in future versions of Flower.\n",
      "        \n",
      "\u001b[92mINFO \u001b[0m:      Starting Flower simulation, config: {'num_rounds': 3}\n"
     ]
    },
    {
     "ename": "OSError",
     "evalue": "[Errno 0] AssignProcessToJobObject() failed",
     "output_type": "error",
     "traceback": [
      "\u001b[31m---------------------------------------------------------------------------\u001b[39m",
      "\u001b[31mOSError\u001b[39m                                   Traceback (most recent call last)",
      "\u001b[36mCell\u001b[39m\u001b[36m \u001b[39m\u001b[32mIn[29]\u001b[39m\u001b[32m, line 13\u001b[39m\n\u001b[32m     10\u001b[39m strategy = FedAvg()\n\u001b[32m     12\u001b[39m \u001b[38;5;66;03m# Start simulation\u001b[39;00m\n\u001b[32m---> \u001b[39m\u001b[32m13\u001b[39m \u001b[43mstart_simulation\u001b[49m\u001b[43m(\u001b[49m\n\u001b[32m     14\u001b[39m \u001b[43m    \u001b[49m\u001b[43mclient_fn\u001b[49m\u001b[43m=\u001b[49m\u001b[43mclient_fn\u001b[49m\u001b[43m,\u001b[49m\n\u001b[32m     15\u001b[39m \u001b[43m    \u001b[49m\u001b[43mnum_clients\u001b[49m\u001b[43m=\u001b[49m\u001b[32;43m2\u001b[39;49m\u001b[43m,\u001b[49m\n\u001b[32m     16\u001b[39m \u001b[43m    \u001b[49m\u001b[43mconfig\u001b[49m\u001b[43m=\u001b[49m\u001b[43m{\u001b[49m\u001b[33;43m\"\u001b[39;49m\u001b[33;43mnum_rounds\u001b[39;49m\u001b[33;43m\"\u001b[39;49m\u001b[43m:\u001b[49m\u001b[43m \u001b[49m\u001b[32;43m3\u001b[39;49m\u001b[43m}\u001b[49m\u001b[43m,\u001b[49m\n\u001b[32m     17\u001b[39m \u001b[43m    \u001b[49m\u001b[43mstrategy\u001b[49m\u001b[43m=\u001b[49m\u001b[43mstrategy\u001b[49m\n\u001b[32m     18\u001b[39m \u001b[43m)\u001b[49m\n\u001b[32m     20\u001b[39m global_centers = strategy.global_centers\n\u001b[32m     21\u001b[39m \u001b[38;5;28;01mif\u001b[39;00m global_centers \u001b[38;5;129;01mis\u001b[39;00m \u001b[38;5;28;01mNone\u001b[39;00m:\n",
      "\u001b[36mFile \u001b[39m\u001b[32m~\\AppData\\Local\\Packages\\PythonSoftwareFoundation.Python.3.12_qbz5n2kfra8p0\\LocalCache\\local-packages\\Python312\\site-packages\\flwr\\simulation\\legacy_app.py:262\u001b[39m, in \u001b[36mstart_simulation\u001b[39m\u001b[34m(client_fn, num_clients, clients_ids, client_resources, server, config, strategy, client_manager, ray_init_args, keep_initialised, actor_type, actor_kwargs, actor_scheduling)\u001b[39m\n\u001b[32m    259\u001b[39m     ray.shutdown()\n\u001b[32m    261\u001b[39m \u001b[38;5;66;03m# Initialize Ray\u001b[39;00m\n\u001b[32m--> \u001b[39m\u001b[32m262\u001b[39m \u001b[43mray\u001b[49m\u001b[43m.\u001b[49m\u001b[43minit\u001b[49m\u001b[43m(\u001b[49m\u001b[43m*\u001b[49m\u001b[43m*\u001b[49m\u001b[43mray_init_args\u001b[49m\u001b[43m)\u001b[49m\n\u001b[32m    263\u001b[39m cluster_resources = ray.cluster_resources()\n\u001b[32m    264\u001b[39m log(\n\u001b[32m    265\u001b[39m     INFO,\n\u001b[32m    266\u001b[39m     \u001b[33m\"\u001b[39m\u001b[33mFlower VCE: Ray initialized with resources: \u001b[39m\u001b[38;5;132;01m%s\u001b[39;00m\u001b[33m\"\u001b[39m,\n\u001b[32m    267\u001b[39m     cluster_resources,\n\u001b[32m    268\u001b[39m )\n",
      "\u001b[36mFile \u001b[39m\u001b[32m~\\AppData\\Local\\Packages\\PythonSoftwareFoundation.Python.3.12_qbz5n2kfra8p0\\LocalCache\\local-packages\\Python312\\site-packages\\ray\\_private\\client_mode_hook.py:104\u001b[39m, in \u001b[36mclient_mode_hook.<locals>.wrapper\u001b[39m\u001b[34m(*args, **kwargs)\u001b[39m\n\u001b[32m    102\u001b[39m     \u001b[38;5;28;01mif\u001b[39;00m func.\u001b[34m__name__\u001b[39m != \u001b[33m\"\u001b[39m\u001b[33minit\u001b[39m\u001b[33m\"\u001b[39m \u001b[38;5;129;01mor\u001b[39;00m is_client_mode_enabled_by_default:\n\u001b[32m    103\u001b[39m         \u001b[38;5;28;01mreturn\u001b[39;00m \u001b[38;5;28mgetattr\u001b[39m(ray, func.\u001b[34m__name__\u001b[39m)(*args, **kwargs)\n\u001b[32m--> \u001b[39m\u001b[32m104\u001b[39m \u001b[38;5;28;01mreturn\u001b[39;00m \u001b[43mfunc\u001b[49m\u001b[43m(\u001b[49m\u001b[43m*\u001b[49m\u001b[43margs\u001b[49m\u001b[43m,\u001b[49m\u001b[43m \u001b[49m\u001b[43m*\u001b[49m\u001b[43m*\u001b[49m\u001b[43mkwargs\u001b[49m\u001b[43m)\u001b[49m\n",
      "\u001b[36mFile \u001b[39m\u001b[32m~\\AppData\\Local\\Packages\\PythonSoftwareFoundation.Python.3.12_qbz5n2kfra8p0\\LocalCache\\local-packages\\Python312\\site-packages\\ray\\_private\\worker.py:1809\u001b[39m, in \u001b[36minit\u001b[39m\u001b[34m(address, num_cpus, num_gpus, resources, labels, object_store_memory, local_mode, ignore_reinit_error, include_dashboard, dashboard_host, dashboard_port, job_config, configure_logging, logging_level, logging_format, logging_config, log_to_driver, namespace, runtime_env, storage, enable_resource_isolation, system_reserved_cpu, system_reserved_memory, **kwargs)\u001b[39m\n\u001b[32m   1774\u001b[39m     ray_params = ray._private.parameter.RayParams(\n\u001b[32m   1775\u001b[39m         node_ip_address=_node_ip_address,\n\u001b[32m   1776\u001b[39m         object_ref_seed=\u001b[38;5;28;01mNone\u001b[39;00m,\n\u001b[32m   (...)\u001b[39m\u001b[32m   1803\u001b[39m         resource_isolation_config=resource_isolation_config,\n\u001b[32m   1804\u001b[39m     )\n\u001b[32m   1805\u001b[39m     \u001b[38;5;66;03m# Start the Ray processes. We set shutdown_at_exit=False because we\u001b[39;00m\n\u001b[32m   1806\u001b[39m     \u001b[38;5;66;03m# shutdown the node in the ray.shutdown call that happens in the atexit\u001b[39;00m\n\u001b[32m   1807\u001b[39m     \u001b[38;5;66;03m# handler. We still spawn a reaper process in case the atexit handler\u001b[39;00m\n\u001b[32m   1808\u001b[39m     \u001b[38;5;66;03m# isn't called.\u001b[39;00m\n\u001b[32m-> \u001b[39m\u001b[32m1809\u001b[39m     _global_node = \u001b[43mray\u001b[49m\u001b[43m.\u001b[49m\u001b[43m_private\u001b[49m\u001b[43m.\u001b[49m\u001b[43mnode\u001b[49m\u001b[43m.\u001b[49m\u001b[43mNode\u001b[49m\u001b[43m(\u001b[49m\n\u001b[32m   1810\u001b[39m \u001b[43m        \u001b[49m\u001b[43mray_params\u001b[49m\u001b[43m=\u001b[49m\u001b[43mray_params\u001b[49m\u001b[43m,\u001b[49m\n\u001b[32m   1811\u001b[39m \u001b[43m        \u001b[49m\u001b[43mhead\u001b[49m\u001b[43m=\u001b[49m\u001b[38;5;28;43;01mTrue\u001b[39;49;00m\u001b[43m,\u001b[49m\n\u001b[32m   1812\u001b[39m \u001b[43m        \u001b[49m\u001b[43mshutdown_at_exit\u001b[49m\u001b[43m=\u001b[49m\u001b[38;5;28;43;01mFalse\u001b[39;49;00m\u001b[43m,\u001b[49m\n\u001b[32m   1813\u001b[39m \u001b[43m        \u001b[49m\u001b[43mspawn_reaper\u001b[49m\u001b[43m=\u001b[49m\u001b[38;5;28;43;01mTrue\u001b[39;49;00m\u001b[43m,\u001b[49m\n\u001b[32m   1814\u001b[39m \u001b[43m        \u001b[49m\u001b[43mray_init_cluster\u001b[49m\u001b[43m=\u001b[49m\u001b[38;5;28;43;01mTrue\u001b[39;49;00m\u001b[43m,\u001b[49m\n\u001b[32m   1815\u001b[39m \u001b[43m    \u001b[49m\u001b[43m)\u001b[49m\n\u001b[32m   1816\u001b[39m \u001b[38;5;28;01melse\u001b[39;00m:\n\u001b[32m   1817\u001b[39m     \u001b[38;5;66;03m# In this case, we are connecting to an existing cluster.\u001b[39;00m\n\u001b[32m   1818\u001b[39m     \u001b[38;5;28;01mif\u001b[39;00m num_cpus \u001b[38;5;129;01mis\u001b[39;00m \u001b[38;5;129;01mnot\u001b[39;00m \u001b[38;5;28;01mNone\u001b[39;00m \u001b[38;5;129;01mor\u001b[39;00m num_gpus \u001b[38;5;129;01mis\u001b[39;00m \u001b[38;5;129;01mnot\u001b[39;00m \u001b[38;5;28;01mNone\u001b[39;00m:\n",
      "\u001b[36mFile \u001b[39m\u001b[32m~\\AppData\\Local\\Packages\\PythonSoftwareFoundation.Python.3.12_qbz5n2kfra8p0\\LocalCache\\local-packages\\Python312\\site-packages\\ray\\_private\\node.py:364\u001b[39m, in \u001b[36mNode.__init__\u001b[39m\u001b[34m(self, ray_params, head, shutdown_at_exit, spawn_reaper, connect_only, default_worker, ray_init_cluster)\u001b[39m\n\u001b[32m    362\u001b[39m \u001b[38;5;66;03m# Start processes.\u001b[39;00m\n\u001b[32m    363\u001b[39m \u001b[38;5;28;01mif\u001b[39;00m head:\n\u001b[32m--> \u001b[39m\u001b[32m364\u001b[39m     \u001b[38;5;28;43mself\u001b[39;49m\u001b[43m.\u001b[49m\u001b[43mstart_head_processes\u001b[49m\u001b[43m(\u001b[49m\u001b[43m)\u001b[49m\n\u001b[32m    366\u001b[39m \u001b[38;5;28;01mif\u001b[39;00m \u001b[38;5;129;01mnot\u001b[39;00m connect_only:\n\u001b[32m    367\u001b[39m     \u001b[38;5;28mself\u001b[39m.start_ray_processes()\n",
      "\u001b[36mFile \u001b[39m\u001b[32m~\\AppData\\Local\\Packages\\PythonSoftwareFoundation.Python.3.12_qbz5n2kfra8p0\\LocalCache\\local-packages\\Python312\\site-packages\\ray\\_private\\node.py:1463\u001b[39m, in \u001b[36mNode.start_head_processes\u001b[39m\u001b[34m(self)\u001b[39m\n\u001b[32m   1460\u001b[39m \u001b[38;5;28mself\u001b[39m._write_cluster_info_to_kv()\n\u001b[32m   1462\u001b[39m \u001b[38;5;28;01mif\u001b[39;00m \u001b[38;5;129;01mnot\u001b[39;00m \u001b[38;5;28mself\u001b[39m._ray_params.no_monitor:\n\u001b[32m-> \u001b[39m\u001b[32m1463\u001b[39m     \u001b[38;5;28;43mself\u001b[39;49m\u001b[43m.\u001b[49m\u001b[43mstart_monitor\u001b[49m\u001b[43m(\u001b[49m\u001b[43m)\u001b[49m\n\u001b[32m   1465\u001b[39m \u001b[38;5;28;01mif\u001b[39;00m \u001b[38;5;28mself\u001b[39m._ray_params.ray_client_server_port:\n\u001b[32m   1466\u001b[39m     \u001b[38;5;28mself\u001b[39m.start_ray_client_server()\n",
      "\u001b[36mFile \u001b[39m\u001b[32m~\\AppData\\Local\\Packages\\PythonSoftwareFoundation.Python.3.12_qbz5n2kfra8p0\\LocalCache\\local-packages\\Python312\\site-packages\\ray\\_private\\node.py:1356\u001b[39m, in \u001b[36mNode.start_monitor\u001b[39m\u001b[34m(self)\u001b[39m\n\u001b[32m   1351\u001b[39m \u001b[38;5;28;01mfrom\u001b[39;00m\u001b[38;5;250m \u001b[39m\u001b[34;01mray\u001b[39;00m\u001b[34;01m.\u001b[39;00m\u001b[34;01mautoscaler\u001b[39;00m\u001b[34;01m.\u001b[39;00m\u001b[34;01mv2\u001b[39;00m\u001b[34;01m.\u001b[39;00m\u001b[34;01mutils\u001b[39;00m\u001b[38;5;250m \u001b[39m\u001b[38;5;28;01mimport\u001b[39;00m is_autoscaler_v2\n\u001b[32m   1353\u001b[39m stdout_log_fname, stderr_log_fname = \u001b[38;5;28mself\u001b[39m.get_log_file_names(\n\u001b[32m   1354\u001b[39m     \u001b[33m\"\u001b[39m\u001b[33mmonitor\u001b[39m\u001b[33m\"\u001b[39m, unique=\u001b[38;5;28;01mTrue\u001b[39;00m, create_out=\u001b[38;5;28;01mTrue\u001b[39;00m, create_err=\u001b[38;5;28;01mTrue\u001b[39;00m\n\u001b[32m   1355\u001b[39m )\n\u001b[32m-> \u001b[39m\u001b[32m1356\u001b[39m process_info = \u001b[43mray\u001b[49m\u001b[43m.\u001b[49m\u001b[43m_private\u001b[49m\u001b[43m.\u001b[49m\u001b[43mservices\u001b[49m\u001b[43m.\u001b[49m\u001b[43mstart_monitor\u001b[49m\u001b[43m(\u001b[49m\n\u001b[32m   1357\u001b[39m \u001b[43m    \u001b[49m\u001b[38;5;28;43mself\u001b[39;49m\u001b[43m.\u001b[49m\u001b[43mgcs_address\u001b[49m\u001b[43m,\u001b[49m\n\u001b[32m   1358\u001b[39m \u001b[43m    \u001b[49m\u001b[38;5;28;43mself\u001b[39;49m\u001b[43m.\u001b[49m\u001b[43m_logs_dir\u001b[49m\u001b[43m,\u001b[49m\n\u001b[32m   1359\u001b[39m \u001b[43m    \u001b[49m\u001b[43mstdout_filepath\u001b[49m\u001b[43m=\u001b[49m\u001b[43mstdout_log_fname\u001b[49m\u001b[43m,\u001b[49m\n\u001b[32m   1360\u001b[39m \u001b[43m    \u001b[49m\u001b[43mstderr_filepath\u001b[49m\u001b[43m=\u001b[49m\u001b[43mstderr_log_fname\u001b[49m\u001b[43m,\u001b[49m\n\u001b[32m   1361\u001b[39m \u001b[43m    \u001b[49m\u001b[43mautoscaling_config\u001b[49m\u001b[43m=\u001b[49m\u001b[38;5;28;43mself\u001b[39;49m\u001b[43m.\u001b[49m\u001b[43m_ray_params\u001b[49m\u001b[43m.\u001b[49m\u001b[43mautoscaling_config\u001b[49m\u001b[43m,\u001b[49m\n\u001b[32m   1362\u001b[39m \u001b[43m    \u001b[49m\u001b[43mfate_share\u001b[49m\u001b[43m=\u001b[49m\u001b[38;5;28;43mself\u001b[39;49m\u001b[43m.\u001b[49m\u001b[43mkernel_fate_share\u001b[49m\u001b[43m,\u001b[49m\n\u001b[32m   1363\u001b[39m \u001b[43m    \u001b[49m\u001b[43mmax_bytes\u001b[49m\u001b[43m=\u001b[49m\u001b[38;5;28;43mself\u001b[39;49m\u001b[43m.\u001b[49m\u001b[43mmax_bytes\u001b[49m\u001b[43m,\u001b[49m\n\u001b[32m   1364\u001b[39m \u001b[43m    \u001b[49m\u001b[43mbackup_count\u001b[49m\u001b[43m=\u001b[49m\u001b[38;5;28;43mself\u001b[39;49m\u001b[43m.\u001b[49m\u001b[43mbackup_count\u001b[49m\u001b[43m,\u001b[49m\n\u001b[32m   1365\u001b[39m \u001b[43m    \u001b[49m\u001b[43mmonitor_ip\u001b[49m\u001b[43m=\u001b[49m\u001b[38;5;28;43mself\u001b[39;49m\u001b[43m.\u001b[49m\u001b[43m_node_ip_address\u001b[49m\u001b[43m,\u001b[49m\n\u001b[32m   1366\u001b[39m \u001b[43m    \u001b[49m\u001b[43mautoscaler_v2\u001b[49m\u001b[43m=\u001b[49m\u001b[43mis_autoscaler_v2\u001b[49m\u001b[43m(\u001b[49m\u001b[43mfetch_from_server\u001b[49m\u001b[43m=\u001b[49m\u001b[38;5;28;43;01mTrue\u001b[39;49;00m\u001b[43m)\u001b[49m\u001b[43m,\u001b[49m\n\u001b[32m   1367\u001b[39m \u001b[43m\u001b[49m\u001b[43m)\u001b[49m\n\u001b[32m   1368\u001b[39m \u001b[38;5;28;01massert\u001b[39;00m ray_constants.PROCESS_TYPE_MONITOR \u001b[38;5;129;01mnot\u001b[39;00m \u001b[38;5;129;01min\u001b[39;00m \u001b[38;5;28mself\u001b[39m.all_processes\n\u001b[32m   1369\u001b[39m \u001b[38;5;28mself\u001b[39m.all_processes[ray_constants.PROCESS_TYPE_MONITOR] = [process_info]\n",
      "\u001b[36mFile \u001b[39m\u001b[32m~\\AppData\\Local\\Packages\\PythonSoftwareFoundation.Python.3.12_qbz5n2kfra8p0\\LocalCache\\local-packages\\Python312\\site-packages\\ray\\_private\\services.py:2316\u001b[39m, in \u001b[36mstart_monitor\u001b[39m\u001b[34m(gcs_address, logs_dir, stdout_filepath, stderr_filepath, autoscaling_config, fate_share, max_bytes, backup_count, monitor_ip, autoscaler_v2)\u001b[39m\n\u001b[32m   2313\u001b[39m \u001b[38;5;28;01mif\u001b[39;00m stderr_filepath:\n\u001b[32m   2314\u001b[39m     stderr_file = \u001b[38;5;28mopen\u001b[39m(os.devnull, \u001b[33m\"\u001b[39m\u001b[33mw\u001b[39m\u001b[33m\"\u001b[39m)\n\u001b[32m-> \u001b[39m\u001b[32m2316\u001b[39m process_info = \u001b[43mstart_ray_process\u001b[49m\u001b[43m(\u001b[49m\n\u001b[32m   2317\u001b[39m \u001b[43m    \u001b[49m\u001b[43mcommand\u001b[49m\u001b[43m,\u001b[49m\n\u001b[32m   2318\u001b[39m \u001b[43m    \u001b[49m\u001b[43mray_constants\u001b[49m\u001b[43m.\u001b[49m\u001b[43mPROCESS_TYPE_MONITOR\u001b[49m\u001b[43m,\u001b[49m\n\u001b[32m   2319\u001b[39m \u001b[43m    \u001b[49m\u001b[43mstdout_file\u001b[49m\u001b[43m=\u001b[49m\u001b[43mstdout_file\u001b[49m\u001b[43m,\u001b[49m\n\u001b[32m   2320\u001b[39m \u001b[43m    \u001b[49m\u001b[43mstderr_file\u001b[49m\u001b[43m=\u001b[49m\u001b[43mstderr_file\u001b[49m\u001b[43m,\u001b[49m\n\u001b[32m   2321\u001b[39m \u001b[43m    \u001b[49m\u001b[43mfate_share\u001b[49m\u001b[43m=\u001b[49m\u001b[43mfate_share\u001b[49m\u001b[43m,\u001b[49m\n\u001b[32m   2322\u001b[39m \u001b[43m\u001b[49m\u001b[43m)\u001b[49m\n\u001b[32m   2323\u001b[39m \u001b[38;5;28;01mreturn\u001b[39;00m process_info\n",
      "\u001b[36mFile \u001b[39m\u001b[32m~\\AppData\\Local\\Packages\\PythonSoftwareFoundation.Python.3.12_qbz5n2kfra8p0\\LocalCache\\local-packages\\Python312\\site-packages\\ray\\_private\\services.py:1022\u001b[39m, in \u001b[36mstart_ray_process\u001b[39m\u001b[34m(command, process_type, fate_share, env_updates, cwd, use_valgrind, use_gdb, use_valgrind_profiler, use_perftools_profiler, use_tmux, stdout_file, stderr_file, pipe_stdin)\u001b[39m\n\u001b[32m   1020\u001b[39m \u001b[38;5;28;01mif\u001b[39;00m win32_fate_sharing:\n\u001b[32m   1021\u001b[39m     \u001b[38;5;28;01mtry\u001b[39;00m:\n\u001b[32m-> \u001b[39m\u001b[32m1022\u001b[39m         \u001b[43mray\u001b[49m\u001b[43m.\u001b[49m\u001b[43m_private\u001b[49m\u001b[43m.\u001b[49m\u001b[43mutils\u001b[49m\u001b[43m.\u001b[49m\u001b[43mset_kill_child_on_death_win32\u001b[49m\u001b[43m(\u001b[49m\u001b[43mprocess\u001b[49m\u001b[43m)\u001b[49m\n\u001b[32m   1023\u001b[39m         psutil.Process(process.pid).resume()\n\u001b[32m   1024\u001b[39m     \u001b[38;5;28;01mexcept\u001b[39;00m (psutil.Error, \u001b[38;5;167;01mOSError\u001b[39;00m):\n",
      "\u001b[36mFile \u001b[39m\u001b[32m~\\AppData\\Local\\Packages\\PythonSoftwareFoundation.Python.3.12_qbz5n2kfra8p0\\LocalCache\\local-packages\\Python312\\site-packages\\ray\\_private\\utils.py:919\u001b[39m, in \u001b[36mset_kill_child_on_death_win32\u001b[39m\u001b[34m(child_proc)\u001b[39m\n\u001b[32m    916\u001b[39m     \u001b[38;5;28;01mif\u001b[39;00m \u001b[38;5;129;01mnot\u001b[39;00m win32_AssignProcessToJobObject(win32_job, \u001b[38;5;28mint\u001b[39m(child_proc)):\n\u001b[32m    917\u001b[39m         \u001b[38;5;28;01mimport\u001b[39;00m\u001b[38;5;250m \u001b[39m\u001b[34;01mctypes\u001b[39;00m\n\u001b[32m--> \u001b[39m\u001b[32m919\u001b[39m         \u001b[38;5;28;01mraise\u001b[39;00m \u001b[38;5;167;01mOSError\u001b[39;00m(ctypes.get_last_error(), \u001b[33m\"\u001b[39m\u001b[33mAssignProcessToJobObject() failed\u001b[39m\u001b[33m\"\u001b[39m)\n\u001b[32m    920\u001b[39m \u001b[38;5;28;01melse\u001b[39;00m:\n\u001b[32m    921\u001b[39m     \u001b[38;5;28;01massert\u001b[39;00m \u001b[38;5;28;01mFalse\u001b[39;00m, \u001b[33m\"\u001b[39m\u001b[33mAssignProcessToJobObject used despite being unavailable\u001b[39m\u001b[33m\"\u001b[39m\n",
      "\u001b[31mOSError\u001b[39m: [Errno 0] AssignProcessToJobObject() failed"
     ]
    }
   ],
   "source": [
    "from flwr.server import Server\n",
    "from flwr.simulation import start_simulation\n",
    "from flwr.server.strategy import FedAvg\n",
    "\n",
    "# Dummy client function (replace with your actual client)\n",
    "def client_fn(cid):\n",
    "    return None  # Placeholder; implement your client logic\n",
    "\n",
    "# Strategy\n",
    "strategy = FedAvg()\n",
    "\n",
    "# Start simulation\n",
    "start_simulation(\n",
    "    client_fn=client_fn,\n",
    "    num_clients=2,\n",
    "    config={\"num_rounds\": 3},\n",
    "    strategy=strategy\n",
    ")\n",
    "\n",
    "global_centers = strategy.global_centers\n",
    "if global_centers is None:\n",
    "    raise ValueError(\"Federated learning failed to produce global cluster centers.\")\n",
    "print(f\"Global centers: {global_centers}\")"
   ]
  },
  {
   "cell_type": "code",
   "execution_count": 43,
   "id": "d3b05f81",
   "metadata": {},
   "outputs": [
    {
     "name": "stdout",
     "output_type": "stream",
     "text": [
      "Cluster distribution:\n",
      "cluster\n",
      "0    44\n",
      "1     6\n",
      "Name: count, dtype: int64\n",
      "   Rank                                     Address         Address_Nametag  \\\n",
      "0     1  0x37305b1cd40574e4c5ce33f8e8306be057fd7341                Sky: PSM   \n",
      "1     2  0xad354cfbaa4a8572dd6df021514a3931a8329ef5                     NaN   \n",
      "2     3  0xe1940f578743367f38d3f25c2d2d32d6636929b6                     NaN   \n",
      "3     4  0xf977814e90da44bfa03b6295a0616a897441acec  Binance: Hot Wallet 20   \n",
      "4     5  0x420ef1f25563593af5fe3f9b9d3bc56a8bd8c104                     NaN   \n",
      "\n",
      "               Quantity  Percentage         Value  cluster  \n",
      "0  2,412,966,370.760662      6.0706  2.412382e+09        1  \n",
      "1       1,400,000,000.5      3.5221  1.399661e+09        1  \n",
      "2  1,399,999,999.009477      3.5221  1.399661e+09        1  \n",
      "3  1,024,607,666.553856      2.5777  1.024360e+09        1  \n",
      "4    1,000,000,002.0169      2.5158  9.997580e+08        1  \n"
     ]
    }
   ],
   "source": [
    "#Applying the final clustering to all data\n",
    "final_kmeans = KMeans(n_clusters=2, random_state=42)\n",
    "final_kmeans.fit(scaler_data)\n",
    "df['cluster'] = final_kmeans.predict(scaler_data)\n",
    "\n",
    "# Check the cluster distribution\n",
    "print(\"Cluster distribution:\")\n",
    "print(df['cluster'].value_counts())\n",
    "\n",
    "# Print the first few rows to verify\n",
    "print(df.head())"
   ]
  },
  {
   "cell_type": "code",
   "execution_count": 73,
   "id": "7bed4b79",
   "metadata": {},
   "outputs": [
    {
     "name": "stdout",
     "output_type": "stream",
     "text": [
      "n_clusters=2, Unique clusters=2, Labels=[0 0 1 1 1]\n",
      "n_clusters=3, Unique clusters=3, Labels=[2 0 0 1 1]\n",
      "n_clusters=4, Unique clusters=4, Labels=[2 0 0 3 1]\n",
      "n_clusters=5, Unique clusters=5, Labels=[2 0 4 3 1]\n"
     ]
    }
   ],
   "source": [
    "from sklearn.cluster import KMeans\n",
    "import pandas as pd\n",
    "\n",
    "# Your DataFrame\n",
    "data = {'feature1': [1, 2, 3, 4, 5], 'feature2': [2, 4, 5, 4, 5]}\n",
    "df = pd.DataFrame(data)\n",
    "\n",
    "# Test different numbers of clusters\n",
    "for n_clusters in range(2, 6):\n",
    "    kmeans = KMeans(n_clusters=n_clusters, random_state=42)\n",
    "    cluster_labels = kmeans.fit_predict(df[['feature1', 'feature2']])\n",
    "    unique_clusters = len(set(cluster_labels))\n",
    "    print(f\"n_clusters={n_clusters}, Unique clusters={unique_clusters}, Labels={cluster_labels}\")"
   ]
  },
  {
   "cell_type": "code",
   "execution_count": 81,
   "id": "4e3dc851",
   "metadata": {},
   "outputs": [
    {
     "name": "stdout",
     "output_type": "stream",
     "text": [
      "DBSCAN Labels: [-1 -1 -1 -1 -1], Unique clusters (excluding noise): 0\n",
      "DBSCAN produced fewer than 2 clusters (excluding noise).\n"
     ]
    }
   ],
   "source": [
    "from sklearn.cluster import DBSCAN\n",
    "from sklearn.metrics import silhouette_score\n",
    "\n",
    "# Your DataFrame\n",
    "data = {'feature1': [1, 2, 3, 4, 5], 'feature2': [2, 4, 5, 4, 5]}\n",
    "df = pd.DataFrame(data)\n",
    "\n",
    "# Try DBSCAN\n",
    "dbscan = DBSCAN(eps=1.0, min_samples=2)\n",
    "cluster_labels = dbscan.fit_predict(df[['feature1', 'feature2']])\n",
    "unique_clusters = len(set(cluster_labels)) - (1 if -1 in cluster_labels else 0)  # Exclude noise\n",
    "print(f\"DBSCAN Labels: {cluster_labels}, Unique clusters (excluding noise): {unique_clusters}\")\n",
    "if unique_clusters >= 2:\n",
    "    score = silhouette_score(df[['feature1', 'feature2']], cluster_labels)\n",
    "    print(f\"Silhouette Score with DBSCAN: {score}\")\n",
    "else:\n",
    "    print(\"DBSCAN produced fewer than 2 clusters (excluding noise).\")"
   ]
  },
  {
   "cell_type": "code",
   "execution_count": 82,
   "id": "96861095",
   "metadata": {},
   "outputs": [
    {
     "name": "stdout",
     "output_type": "stream",
     "text": [
      "After excluding noise, fewer than 2 clusters remain.\n"
     ]
    }
   ],
   "source": [
    "# Filter out noise points\n",
    "mask = cluster_labels != -1\n",
    "if len(set(cluster_labels[mask])) >= 2:\n",
    "    score = silhouette_score(df[['feature1', 'feature2']][mask], cluster_labels[mask])\n",
    "    print(f\"Silhouette Score with DBSCAN (excluding noise): {score}\")\n",
    "else:\n",
    "    print(\"After excluding noise, fewer than 2 clusters remain.\")"
   ]
  },
  {
   "cell_type": "code",
   "execution_count": 83,
   "id": "674c0b36",
   "metadata": {},
   "outputs": [
    {
     "name": "stdout",
     "output_type": "stream",
     "text": [
      "Shape of features: (5, 2)\n",
      "Length of cluster_labels: 5\n"
     ]
    }
   ],
   "source": [
    "print(\"Shape of features:\", df[['feature1', 'feature2']].shape)\n",
    "print(\"Length of cluster_labels:\", len(cluster_labels))"
   ]
  },
  {
   "cell_type": "code",
   "execution_count": 84,
   "id": "f5818cc2",
   "metadata": {},
   "outputs": [
    {
     "name": "stdout",
     "output_type": "stream",
     "text": [
      "n_clusters=2, Unique clusters=2, Labels=[0 0 1 1 1]\n",
      "Cluster sizes: [2 3]\n",
      "Silhouette Score: 0.3655981284134393\n",
      "n_clusters=3, Unique clusters=3, Labels=[2 0 0 1 1]\n",
      "Cluster sizes: [2 2 1]\n",
      "Skipping silhouette score for 3 clusters: 3 clusters found, sizes=[2 2 1]\n",
      "n_clusters=4, Unique clusters=4, Labels=[2 0 0 3 1]\n",
      "Cluster sizes: [2 1 1 1]\n",
      "Skipping silhouette score for 4 clusters: 4 clusters found, sizes=[2 1 1 1]\n",
      "n_clusters=5, Unique clusters=5, Labels=[2 0 4 3 1]\n",
      "Cluster sizes: [1 1 1 1 1]\n",
      "Skipping silhouette score for 5 clusters: 5 clusters found, sizes=[1 1 1 1 1]\n"
     ]
    }
   ],
   "source": [
    "from sklearn.cluster import KMeans\n",
    "import numpy as np\n",
    "\n",
    "# Your DataFrame\n",
    "data = {'feature1': [1, 2, 3, 4, 5], 'feature2': [2, 4, 5, 4, 5]}\n",
    "df = pd.DataFrame(data)\n",
    "\n",
    "for n_clusters in range(2, 6):\n",
    "    kmeans = KMeans(n_clusters=n_clusters, random_state=42)\n",
    "    cluster_labels = kmeans.fit_predict(df[['feature1', 'feature2']])\n",
    "    unique_clusters = len(set(cluster_labels))\n",
    "    print(f\"n_clusters={n_clusters}, Unique clusters={unique_clusters}, Labels={cluster_labels}\")\n",
    "    \n",
    "    # Check the size of each cluster\n",
    "    cluster_sizes = np.bincount(cluster_labels)\n",
    "    print(f\"Cluster sizes: {cluster_sizes}\")\n",
    "    \n",
    "    if unique_clusters >= 2 and all(size > 1 for size in cluster_sizes if size > 0):\n",
    "        score = silhouette_score(df[['feature1', 'feature2']], cluster_labels)\n",
    "        print(f\"Silhouette Score: {score}\")\n",
    "    else:\n",
    "        print(f\"Skipping silhouette score for {n_clusters} clusters: {unique_clusters} clusters found, sizes={cluster_sizes}\")"
   ]
  },
  {
   "cell_type": "code",
   "execution_count": 85,
   "id": "bf2add5d",
   "metadata": {},
   "outputs": [
    {
     "name": "stdout",
     "output_type": "stream",
     "text": [
      "n_clusters=2, Unique clusters=2, Labels=[0 0 1 1 1], Sizes=[2 3]\n",
      "Silhouette Score: 0.33330935374127285\n",
      "n_clusters=3, Unique clusters=3, Labels=[2 0 0 1 1], Sizes=[2 2 1]\n",
      "Skipping silhouette score for 3 clusters: 3 clusters found, sizes=[2 2 1]\n",
      "n_clusters=4, Unique clusters=4, Labels=[2 0 0 3 1], Sizes=[2 1 1 1]\n",
      "Skipping silhouette score for 4 clusters: 4 clusters found, sizes=[2 1 1 1]\n",
      "n_clusters=5, Unique clusters=5, Labels=[2 0 4 3 1], Sizes=[1 1 1 1 1]\n",
      "Skipping silhouette score for 5 clusters: 5 clusters found, sizes=[1 1 1 1 1]\n"
     ]
    }
   ],
   "source": [
    "from sklearn.preprocessing import StandardScaler\n",
    "\n",
    "scaler = StandardScaler()\n",
    "scaled_features = scaler.fit_transform(df[['feature1', 'feature2']])\n",
    "\n",
    "for n_clusters in range(2, 6):\n",
    "    kmeans = KMeans(n_clusters=n_clusters, random_state=42)\n",
    "    cluster_labels = kmeans.fit_predict(scaled_features)\n",
    "    unique_clusters = len(set(cluster_labels))\n",
    "    cluster_sizes = np.bincount(cluster_labels)\n",
    "    print(f\"n_clusters={n_clusters}, Unique clusters={unique_clusters}, Labels={cluster_labels}, Sizes={cluster_sizes}\")\n",
    "    if unique_clusters >= 2 and all(size > 1 for size in cluster_sizes if size > 0):\n",
    "        score = silhouette_score(scaled_features, cluster_labels)\n",
    "        print(f\"Silhouette Score: {score}\")\n",
    "    else:\n",
    "        print(f\"Skipping silhouette score for {n_clusters} clusters: {unique_clusters} clusters found, sizes={cluster_sizes}\")"
   ]
  },
  {
   "cell_type": "code",
   "execution_count": 86,
   "id": "ae058378",
   "metadata": {},
   "outputs": [
    {
     "data": {
      "image/png": "[encoded data removed]",
      "text/plain": [
       "<Figure size 640x480 with 1 Axes>"
      ]
     },
     "metadata": {},
     "output_type": "display_data"
    }
   ],
   "source": [
    "import matplotlib.pyplot as plt\n",
    "\n",
    "plt.scatter(df['feature1'], df['feature2'], c=cluster_labels, cmap='viridis')\n",
    "plt.xlabel('Feature 1')\n",
    "plt.ylabel('Feature 2')\n",
    "plt.title('Clusters')\n",
    "plt.show()"
   ]
  },
  {
   "cell_type": "code",
   "execution_count": 1,
   "id": "a3b3d950",
   "metadata": {},
   "outputs": [
    {
     "ename": "NameError",
     "evalue": "name 'DBSCAN' is not defined",
     "output_type": "error",
     "traceback": [
      "\u001b[31m---------------------------------------------------------------------------\u001b[39m",
      "\u001b[31mNameError\u001b[39m                                 Traceback (most recent call last)",
      "\u001b[36mCell\u001b[39m\u001b[36m \u001b[39m\u001b[32mIn[1]\u001b[39m\u001b[32m, line 1\u001b[39m\n\u001b[32m----> \u001b[39m\u001b[32m1\u001b[39m dbscan = \u001b[43mDBSCAN\u001b[49m(eps=\u001b[32m1.5\u001b[39m, min_samples=\u001b[32m2\u001b[39m)\n\u001b[32m      2\u001b[39m cluster_labels = dbscan.fit_predict(scaled_features)\n",
      "\u001b[31mNameError\u001b[39m: name 'DBSCAN' is not defined"
     ]
    }
   ],
   "source": [
    "dbscan = DBSCAN(eps=1.5, min_samples=2)\n",
    "cluster_labels = dbscan.fit_predict(scaled_features)"
   ]
  },
  {
   "cell_type": "code",
   "execution_count": 94,
   "id": "afd8babb",
   "metadata": {},
   "outputs": [
    {
     "name": "stdout",
     "output_type": "stream",
     "text": [
      "   feature1  feature2  cluster\n",
      "0         1         2       -1\n",
      "1         2         4        0\n",
      "2         3         5        0\n",
      "3         4         4        0\n",
      "4         5         5        0\n"
     ]
    }
   ],
   "source": [
    "df['cluster'] = cluster_labels\n",
    "df.to_csv('clustered_data.csv', index=False)\n",
    "print(df)"
   ]
  }
 ],
 "metadata": {
  "kernelspec": {
   "display_name": "Python 3",
   "language": "python",
   "name": "python3"
  },
  "language_info": {
   "codemirror_mode": {
    "name": "ipython",
    "version": 3
   },
   "file_extension": ".py",
   "mimetype": "text/x-python",
   "name": "python",
   "nbconvert_exporter": "python",
   "pygments_lexer": "ipython3",
   "version": "3.12.10"
  }
 },
 "nbformat": 4,
 "nbformat_minor": 5
}
