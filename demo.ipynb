{
 "cells": [
  {
   "cell_type": "code",
   "execution_count": 1,
   "id": "135ed6a3",
   "metadata": {},
   "outputs": [],
   "source": [
    "from sklearn.cluster import KMeans #clustering\n",
    "from sklearn.preprocessing import MinMaxScaler\n",
    "import pandas as pd \n",
    "import numpy as np"
   ]
  },
  {
   "cell_type": "code",
   "execution_count": 4,
   "id": "3536758b",
   "metadata": {},
   "outputs": [
    {
     "data": {
      "text/html": [
       "<div>\n",
       "<style scoped>\n",
       "    .dataframe tbody tr th:only-of-type {\n",
       "        vertical-align: middle;\n",
       "    }\n",
       "\n",
       "    .dataframe tbody tr th {\n",
       "        vertical-align: top;\n",
       "    }\n",
       "\n",
       "    .dataframe thead th {\n",
       "        text-align: right;\n",
       "    }\n",
       "</style>\n",
       "<table border=\"1\" class=\"dataframe\">\n",
       "  <thead>\n",
       "    <tr style=\"text-align: right;\">\n",
       "      <th></th>\n",
       "      <th>Transaction Hash</th>\n",
       "      <th>Status</th>\n",
       "      <th>Method</th>\n",
       "      <th>BlockNo</th>\n",
       "      <th>DateTime (UTC)</th>\n",
       "      <th>From</th>\n",
       "      <th>From_Nametag</th>\n",
       "      <th>To</th>\n",
       "      <th>To_Nametag</th>\n",
       "      <th>Amount</th>\n",
       "      <th>Value (USD)</th>\n",
       "    </tr>\n",
       "  </thead>\n",
       "  <tbody>\n",
       "    <tr>\n",
       "      <th>0x4932f4925b771a3f98677b667a28d79f2dd27357b6edb4827a3cf6656f49c349</th>\n",
       "      <td>Success</td>\n",
       "      <td>Transfer</td>\n",
       "      <td>22672601</td>\n",
       "      <td>2025-06-10 07:14:23</td>\n",
       "      <td>0x26261D5fC06de4d39F253D05a58E62B48750Aa6D</td>\n",
       "      <td>NaN</td>\n",
       "      <td>0x8c018fE62835615565D5fbe28e6bAc6960888F4D</td>\n",
       "      <td>NaN</td>\n",
       "      <td>54,602.719796</td>\n",
       "      <td>$54,592.02</td>\n",
       "      <td>NaN</td>\n",
       "    </tr>\n",
       "    <tr>\n",
       "      <th>0x8b005cede641fb4dd658e777e6ec93cefec778d0a54d6af5f7641c3e8928e0c8</th>\n",
       "      <td>Success</td>\n",
       "      <td>Deposit</td>\n",
       "      <td>22672601</td>\n",
       "      <td>2025-06-10 07:14:23</td>\n",
       "      <td>0xe52520062163c37Bd1920808F66cF0009e8Ff3bd</td>\n",
       "      <td>NaN</td>\n",
       "      <td>0xd5255Cc08EBAf6D54ac9448822a18d8A3da29A42</td>\n",
       "      <td>NaN</td>\n",
       "      <td>998.826362</td>\n",
       "      <td>$998.63</td>\n",
       "      <td>NaN</td>\n",
       "    </tr>\n",
       "    <tr>\n",
       "      <th>0xdfa4cc78a21ef5804bbdf7cdae3e8d5847a53c5b949d2e993ee19f7bbdfc9863</th>\n",
       "      <td>Success</td>\n",
       "      <td>0x2213bc0b</td>\n",
       "      <td>22672601</td>\n",
       "      <td>2025-06-10 07:14:23</td>\n",
       "      <td>0x5418226aF9C8d5D287A78FbBbCD337b86ec07D61</td>\n",
       "      <td>NaN</td>\n",
       "      <td>0x0dBecaD6cDC77079Bb8A9758555065240164a008</td>\n",
       "      <td>NaN</td>\n",
       "      <td>3.513046</td>\n",
       "      <td>$3.51</td>\n",
       "      <td>NaN</td>\n",
       "    </tr>\n",
       "    <tr>\n",
       "      <th>0xdfa4cc78a21ef5804bbdf7cdae3e8d5847a53c5b949d2e993ee19f7bbdfc9863</th>\n",
       "      <td>Success</td>\n",
       "      <td>0x2213bc0b</td>\n",
       "      <td>22672601</td>\n",
       "      <td>2025-06-10 07:14:23</td>\n",
       "      <td>0x5418226aF9C8d5D287A78FbBbCD337b86ec07D61</td>\n",
       "      <td>NaN</td>\n",
       "      <td>0x7AfA9D836d2fCCf172b66622625e56404E465dBD</td>\n",
       "      <td>NaN</td>\n",
       "      <td>0.030116</td>\n",
       "      <td>$0.03</td>\n",
       "      <td>NaN</td>\n",
       "    </tr>\n",
       "    <tr>\n",
       "      <th>0xdfa4cc78a21ef5804bbdf7cdae3e8d5847a53c5b949d2e993ee19f7bbdfc9863</th>\n",
       "      <td>Success</td>\n",
       "      <td>0x2213bc0b</td>\n",
       "      <td>22672601</td>\n",
       "      <td>2025-06-10 07:14:23</td>\n",
       "      <td>0xBB289bC97591F70D8216462DF40ED713011B968a</td>\n",
       "      <td>NaN</td>\n",
       "      <td>0x5418226aF9C8d5D287A78FbBbCD337b86ec07D61</td>\n",
       "      <td>NaN</td>\n",
       "      <td>3.543162</td>\n",
       "      <td>$3.54</td>\n",
       "      <td>NaN</td>\n",
       "    </tr>\n",
       "  </tbody>\n",
       "</table>\n",
       "</div>"
      ],
      "text/plain": [
       "                                                   Transaction Hash  \\\n",
       "0x4932f4925b771a3f98677b667a28d79f2dd27357b6edb...          Success   \n",
       "0x8b005cede641fb4dd658e777e6ec93cefec778d0a54d6...          Success   \n",
       "0xdfa4cc78a21ef5804bbdf7cdae3e8d5847a53c5b949d2...          Success   \n",
       "0xdfa4cc78a21ef5804bbdf7cdae3e8d5847a53c5b949d2...          Success   \n",
       "0xdfa4cc78a21ef5804bbdf7cdae3e8d5847a53c5b949d2...          Success   \n",
       "\n",
       "                                                        Status    Method  \\\n",
       "0x4932f4925b771a3f98677b667a28d79f2dd27357b6edb...    Transfer  22672601   \n",
       "0x8b005cede641fb4dd658e777e6ec93cefec778d0a54d6...     Deposit  22672601   \n",
       "0xdfa4cc78a21ef5804bbdf7cdae3e8d5847a53c5b949d2...  0x2213bc0b  22672601   \n",
       "0xdfa4cc78a21ef5804bbdf7cdae3e8d5847a53c5b949d2...  0x2213bc0b  22672601   \n",
       "0xdfa4cc78a21ef5804bbdf7cdae3e8d5847a53c5b949d2...  0x2213bc0b  22672601   \n",
       "\n",
       "                                                                BlockNo  \\\n",
       "0x4932f4925b771a3f98677b667a28d79f2dd27357b6edb...  2025-06-10 07:14:23   \n",
       "0x8b005cede641fb4dd658e777e6ec93cefec778d0a54d6...  2025-06-10 07:14:23   \n",
       "0xdfa4cc78a21ef5804bbdf7cdae3e8d5847a53c5b949d2...  2025-06-10 07:14:23   \n",
       "0xdfa4cc78a21ef5804bbdf7cdae3e8d5847a53c5b949d2...  2025-06-10 07:14:23   \n",
       "0xdfa4cc78a21ef5804bbdf7cdae3e8d5847a53c5b949d2...  2025-06-10 07:14:23   \n",
       "\n",
       "                                                                                DateTime (UTC)  \\\n",
       "0x4932f4925b771a3f98677b667a28d79f2dd27357b6edb...  0x26261D5fC06de4d39F253D05a58E62B48750Aa6D   \n",
       "0x8b005cede641fb4dd658e777e6ec93cefec778d0a54d6...  0xe52520062163c37Bd1920808F66cF0009e8Ff3bd   \n",
       "0xdfa4cc78a21ef5804bbdf7cdae3e8d5847a53c5b949d2...  0x5418226aF9C8d5D287A78FbBbCD337b86ec07D61   \n",
       "0xdfa4cc78a21ef5804bbdf7cdae3e8d5847a53c5b949d2...  0x5418226aF9C8d5D287A78FbBbCD337b86ec07D61   \n",
       "0xdfa4cc78a21ef5804bbdf7cdae3e8d5847a53c5b949d2...  0xBB289bC97591F70D8216462DF40ED713011B968a   \n",
       "\n",
       "                                                   From  \\\n",
       "0x4932f4925b771a3f98677b667a28d79f2dd27357b6edb...  NaN   \n",
       "0x8b005cede641fb4dd658e777e6ec93cefec778d0a54d6...  NaN   \n",
       "0xdfa4cc78a21ef5804bbdf7cdae3e8d5847a53c5b949d2...  NaN   \n",
       "0xdfa4cc78a21ef5804bbdf7cdae3e8d5847a53c5b949d2...  NaN   \n",
       "0xdfa4cc78a21ef5804bbdf7cdae3e8d5847a53c5b949d2...  NaN   \n",
       "\n",
       "                                                                                  From_Nametag  \\\n",
       "0x4932f4925b771a3f98677b667a28d79f2dd27357b6edb...  0x8c018fE62835615565D5fbe28e6bAc6960888F4D   \n",
       "0x8b005cede641fb4dd658e777e6ec93cefec778d0a54d6...  0xd5255Cc08EBAf6D54ac9448822a18d8A3da29A42   \n",
       "0xdfa4cc78a21ef5804bbdf7cdae3e8d5847a53c5b949d2...  0x0dBecaD6cDC77079Bb8A9758555065240164a008   \n",
       "0xdfa4cc78a21ef5804bbdf7cdae3e8d5847a53c5b949d2...  0x7AfA9D836d2fCCf172b66622625e56404E465dBD   \n",
       "0xdfa4cc78a21ef5804bbdf7cdae3e8d5847a53c5b949d2...  0x5418226aF9C8d5D287A78FbBbCD337b86ec07D61   \n",
       "\n",
       "                                                     To     To_Nametag  \\\n",
       "0x4932f4925b771a3f98677b667a28d79f2dd27357b6edb...  NaN  54,602.719796   \n",
       "0x8b005cede641fb4dd658e777e6ec93cefec778d0a54d6...  NaN     998.826362   \n",
       "0xdfa4cc78a21ef5804bbdf7cdae3e8d5847a53c5b949d2...  NaN       3.513046   \n",
       "0xdfa4cc78a21ef5804bbdf7cdae3e8d5847a53c5b949d2...  NaN       0.030116   \n",
       "0xdfa4cc78a21ef5804bbdf7cdae3e8d5847a53c5b949d2...  NaN       3.543162   \n",
       "\n",
       "                                                        Amount  Value (USD)  \n",
       "0x4932f4925b771a3f98677b667a28d79f2dd27357b6edb...  $54,592.02          NaN  \n",
       "0x8b005cede641fb4dd658e777e6ec93cefec778d0a54d6...     $998.63          NaN  \n",
       "0xdfa4cc78a21ef5804bbdf7cdae3e8d5847a53c5b949d2...       $3.51          NaN  \n",
       "0xdfa4cc78a21ef5804bbdf7cdae3e8d5847a53c5b949d2...       $0.03          NaN  \n",
       "0xdfa4cc78a21ef5804bbdf7cdae3e8d5847a53c5b949d2...       $3.54          NaN  "
      ]
     },
     "execution_count": 4,
     "metadata": {},
     "output_type": "execute_result"
    }
   ],
   "source": [
    "df = pd.read_csv('C:/Users/ASUS/OneDrive/Documents/mercenary_whale_agent/export-token-0xa0b86991c6218b36c1d19d4a2e9eb0ce3606eb48.csv')\n",
    "df.head()"
   ]
  },
  {
   "cell_type": "code",
   "execution_count": 5,
   "id": "72ed9896",
   "metadata": {},
   "outputs": [
    {
     "data": {
      "text/plain": [
       "(25, 11)"
      ]
     },
     "execution_count": 5,
     "metadata": {},
     "output_type": "execute_result"
    }
   ],
   "source": [
    "df.shape"
   ]
  },
  {
   "cell_type": "code",
   "execution_count": 6,
   "id": "67b2770c",
   "metadata": {},
   "outputs": [
    {
     "name": "stdout",
     "output_type": "stream",
     "text": [
      "Python executable: c:\\Users\\ASUS\\OneDrive\\Documents\\mercenary_whale_agent\\.venv\\Scripts\\python.exe\n"
     ]
    }
   ],
   "source": [
    "import sys\n",
    "print(\"Python executable:\", sys.executable)\n",
    "import flwr as fl\n",
    "from flwr.common import NDArrays, Scalar\n",
    "from typing import Dict, Tuple, Optional  \n",
    "import matplotlib.pyplot as plt\n",
    "\n"
   ]
  },
  {
   "cell_type": "code",
   "execution_count": null,
   "id": "4223e661",
   "metadata": {},
   "outputs": [
    {
     "name": "stderr",
     "output_type": "stream",
     "text": [
      "2025-06-17 20:50:18,968\tERROR services.py:1355 -- Failed to start the dashboard , return code 3221226505\n",
      "2025-06-17 20:50:18,968\tERROR services.py:1380 -- Error should be written to 'dashboard.log' or 'dashboard.err'. We are printing the last 20 lines for you. See 'https://docs.ray.io/en/master/ray-observability/user-guides/configure-logging.html#logging-directory-structure' to find where the log file is.\n",
      "2025-06-17 20:50:18,972\tERROR services.py:1424 -- \n",
      "The last 20 lines of C:\\Users\\ASUS\\AppData\\Local\\Temp\\ray\\session_2025-06-17_20-50-16_899788_6032\\logs\\dashboard.log (it contains the error message from the dashboard): \n",
      "Traceback (most recent call last):\n",
      "  File \"c:\\Users\\ASUS\\OneDrive\\Documents\\mercenary_whale_agent\\.venv\\Lib\\site-packages\\ray\\dashboard\\dashboard.py\", line 246, in <module>\n",
      "    logging_utils.redirect_stdout_stderr_if_needed(\n",
      "  File \"c:\\Users\\ASUS\\OneDrive\\Documents\\mercenary_whale_agent\\.venv\\Lib\\site-packages\\ray\\_private\\logging_utils.py\", line 49, in redirect_stdout_stderr_if_needed\n",
      "    sys.stderr = open_log(stderr_fileno, unbuffered=True, closefd=False)\n",
      "                 ^^^^^^^^^^^^^^^^^^^^^^^^^^^^^^^^^^^^^^^^^^^^^^^^^^^^^^^\n",
      "  File \"c:\\Users\\ASUS\\OneDrive\\Documents\\mercenary_whale_agent\\.venv\\Lib\\site-packages\\ray\\_private\\utils.py\", line 444, in open_log\n",
      "    stream = open(path, **kwargs)\n",
      "             ^^^^^^^^^^^^^^^^^^^^\n",
      "OSError: [WinError 6] The handle is invalid\n",
      "\n",
      "\n",
      "2025-06-17 20:50:20,398\tINFO worker.py:1917 -- Started a local Ray instance.\n"
     ]
    }
   ],
   "source": [
    "import ray\n",
    "from sklearn.metrics import silhouette_score\n",
    "\n",
    "# Ensure any previous Ray instance is shut down\n",
    "ray.shutdown()\n",
    "ray.init(dashboard_port=None, include_dashboard=False)\n",
    "\n",
    "print(\"Flower is installed successfully!\")\n",
    "print(\"Tuple type:\", tuple)  # Note: 'Tuple' was undefined; I assume you meant the built-in 'tuple'"
   ]
  },
  {
   "cell_type": "code",
   "execution_count": null,
   "id": "80ea7f21",
   "metadata": {},
   "outputs": [],
   "source": [
    "#Preprocessing the data again for percentage and value\n",
    "df = pd.read_csv(r'C:/Users/ASUS/OneDrive/Documents/mercenary_whale_agent/.venv/export-token.csv')\n",
    "df['Percentage'] = df['Percentage'].str.rstrip('%').astype(float)\n",
    "df['Value'] = df['Value'].str.replace('$', '', regex=False).str.replace(',', '', regex=False).astype(float)\n",
    "df['Quantity'] = pd.to_numeric(df['Quantity'], errors='coerce')"
   ]
  },
  {
   "cell_type": "code",
   "execution_count": 7,
   "id": "be4b01e5",
   "metadata": {},
   "outputs": [
    {
     "name": "stdout",
     "output_type": "stream",
     "text": [
      "Warning: Some Quantity values could not be converted to numeric. Replacing NaN with 0.\n",
      "Quantity column data type: float64\n",
      "   Quantity  Percentage         Value\n",
      "0       0.0      6.0706  2.412382e+09\n",
      "1       0.0      3.5221  1.399661e+09\n",
      "2       0.0      3.5221  1.399661e+09\n",
      "3       0.0      2.5777  1.024360e+09\n",
      "4       0.0      2.5158  9.997580e+08\n"
     ]
    }
   ],
   "source": [
    "# Check for NaN values after conversion\n",
    "if df['Quantity'].isna().any():\n",
    "    print(\"Warning: Some Quantity values could not be converted to numeric. Replacing NaN with 0.\")\n",
    "    df['Quantity'] = df['Quantity'].fillna(0)\n",
    "\n",
    "# Verify the data type\n",
    "print(\"Quantity column data type:\", df['Quantity'].dtype)\n",
    "print(df[['Quantity', 'Percentage', 'Value']].head())"
   ]
  },
  {
   "cell_type": "code",
   "execution_count": 9,
   "id": "485c0679",
   "metadata": {},
   "outputs": [
    {
     "name": "stdout",
     "output_type": "stream",
     "text": [
      "Feature variance: Percentage    1.159199e+00\n",
      "Value         1.830631e+17\n",
      "dtype: float64\n"
     ]
    }
   ],
   "source": [
    "#feature scaling percentage and value\n",
    "# Reason: Quantity (absolute) and Percentage (relative) provide complementary information,\n",
    "# leading to better clustering results compared to Quantity and Value (which are highly correlated)\n",
    "feature_to_scale= df[['Percentage','Value']]\n",
    "scaler= MinMaxScaler()\n",
    "scaler_data=scaler.fit_transform(feature_to_scale)\n",
    "print(\"Feature variance:\",feature_to_scale.var())"
   ]
  },
  {
   "cell_type": "code",
   "execution_count": 10,
   "id": "79c3e3cc",
   "metadata": {},
   "outputs": [
    {
     "name": "stdout",
     "output_type": "stream",
     "text": [
      "Client 1 (Binance) has 6 data points\n",
      "Client 2 (Other known entities) has 7 data points\n",
      "Client 3 (Unlabeled) has 37 data points\n"
     ]
    }
   ],
   "source": [
    "# Split into clients based on Address_Nametag\n",
    "binance_mask = df['Address_Nametag'].str.contains('Binance', na=False)\n",
    "client_1_data = scaler_data[binance_mask]\n",
    "if len(client_1_data) == 0:\n",
    "    print(\"Warning: Client 1 (Binance) has no data points, adding a dummy point\")\n",
    "    client_1_data = np.array([[0, 0]])\n",
    "print(f\"Client 1 (Binance) has {len(client_1_data)} data points\")\n",
    "\n",
    "other_known_mask = (~binance_mask) & (df['Address_Nametag'].notna())\n",
    "client_2_data = scaler_data[other_known_mask]\n",
    "if len(client_2_data) == 0:\n",
    "    print(\"Warning: Client 2 (Other known entities) has no data points, adding a dummy point\")\n",
    "    client_2_data = np.array([[0, 0]])\n",
    "print(f\"Client 2 (Other known entities) has {len(client_2_data)} data points\")\n",
    "\n",
    "unlabeled_mask = df['Address_Nametag'].isna()\n",
    "client_3_data = scaler_data[unlabeled_mask]\n",
    "if len(client_3_data) == 0:\n",
    "    print(\"Warning: Client 3 (Unlabeled) has no data points, adding a dummy point\")\n",
    "    client_3_data = np.array([[0, 0]])\n",
    "print(f\"Client 3 (Unlabeled) has {len(client_3_data)} data points\")"
   ]
  },
  {
   "cell_type": "code",
   "execution_count": 11,
   "id": "77f400bc",
   "metadata": {},
   "outputs": [],
   "source": [
    "class KMeansClient(fl.client.NumPyClient):  #defiing the flower client\n",
    "    def __init__(self, data):\n",
    "        self.data = data\n",
    "        self.kmeans = KMeans(n_clusters=2, random_state=42)\n",
    "        print(f\"Client initialized with {len(self.data)} data points\")\n",
    "\n",
    "    def get_parameters(self, config: Dict[str, Scalar]) -> NDArrays:\n",
    "        print(\"Client get_parameters called\")\n",
    "        if hasattr(self.kmeans, 'cluster_centers_'):\n",
    "            return self.kmeans.cluster_centers_\n",
    "        self.kmeans.fit(self.data)\n",
    "        return self.kmeans.cluster_centers_\n",
    "\n",
    "    def fit(self, parameters: NDArrays, config: Dict[str, Scalar]) -> Tuple[NDArrays, int, Dict]:\n",
    "        print(\"Client fit called\")\n",
    "        if parameters is not None:\n",
    "            self.kmeans = KMeans(n_clusters=2, init=np.array(parameters), n_init=1, random_state=42)\n",
    "        self.kmeans.fit(self.data)\n",
    "        centers = self.kmeans.cluster_centers_\n",
    "        print(f\"Returning centers with shape: {centers.shape}\")\n",
    "        return centers, len(self.data), {}\n",
    "\n",
    "    def evaluate(self, parameters: NDArrays, config: Dict[str, Scalar]) -> Tuple[float, int, Dict]:\n",
    "        print(\"Client evaluate called\")\n",
    "        self.kmeans.cluster_centers_ = np.array(parameters)\n",
    "        labels = self.kmeans.predict(self.data)\n",
    "        return float(self.kmeans.inertia_), len(self.data), {}"
   ]
  },
  {
   "cell_type": "code",
   "execution_count": 12,
   "id": "b082141b",
   "metadata": {},
   "outputs": [
    {
     "name": "stdout",
     "output_type": "stream",
     "text": [
      "Strategy initialized\n"
     ]
    }
   ],
   "source": [
    "# Define a custom strategy to aggregate cluster centers\n",
    "class KMeansStrategy(fl.server.strategy.FedAvg):\n",
    "    def __init__(self):\n",
    "        super().__init__()\n",
    "        self.global_centers = None\n",
    "        print(\"Strategy initialized\")\n",
    "\n",
    "    def aggregate_fit(\n",
    "        self,\n",
    "        server_round: int,\n",
    "        results: list[Tuple[fl.server.client_proxy.ClientProxy, fl.common.FitRes]],\n",
    "        failures: list[Tuple[fl.server.client_proxy.ClientProxy, fl.common.FitRes]],\n",
    "    ) -> Tuple[Optional[NDArrays], Dict[str, Scalar]]:\n",
    "        print(f\"Server round {server_round}: aggregate_fit called\")\n",
    "        print(f\"Results: {len(results)}, Failures: {len(failures)}\")\n",
    "        if failures:\n",
    "            print(\"Failures occurred:\", failures)\n",
    "            return None, {}\n",
    "        aggregated_parameters, metrics = super().aggregate_fit(server_round, results, failures)\n",
    "        if aggregated_parameters is not None:\n",
    "            self.global_centers = np.array(aggregated_parameters)\n",
    "            print(f\"Global centers updated: {self.global_centers}\")\n",
    "        else:\n",
    "            print(\"Aggregation failed, no parameters returned\")\n",
    "        return aggregated_parameters, metrics\n",
    "\n",
    "strategy = KMeansStrategy()"
   ]
  },
  {
   "cell_type": "code",
   "execution_count": 16,
   "id": "71632368",
   "metadata": {},
   "outputs": [],
   "source": [
    "#Run Flower simulation\n",
    "def client_fn(cid: str):\n",
    "    if cid == \"0\":\n",
    "        return KMeansClient(client_1_data)\n",
    "    elif cid == \"1\":\n",
    "        return KMeansClient(client_2_data)\n",
    "    else:\n",
    "        return KMeansClient(client_3_data)\n",
    "    \n"
   ]
  },
  {
   "cell_type": "code",
   "execution_count": 17,
   "id": "7752bb8e",
   "metadata": {},
   "outputs": [
    {
     "name": "stdout",
     "output_type": "stream",
     "text": [
      "Starting Flower simulation...\n",
      "Simulation failed with error: Unable to import module `ray`.\n",
      "\n",
      "To install the necessary dependencies, install `flwr` with the `simulation` extra:\n",
      "\n",
      "    pip install -U \"flwr[simulation]\"\n",
      "\n"
     ]
    }
   ],
   "source": [
    "print(\"Starting Flower simulation...\")\n",
    "\n",
    "try:\n",
    "    fl.simulation.start_simulation(\n",
    "        client_fn=client_fn,\n",
    "        num_clients=3,\n",
    "        client_resources={\"num_cpus\": 1},\n",
    "        config=fl.server.ServerConfig(num_rounds=3),\n",
    "        strategy=strategy,\n",
    "    )\n",
    "    print(\"Simulation completed successfully\")\n",
    "except Exception as e:\n",
    "    print(f\"Simulation failed with error: {e}\")"
   ]
  },
  {
   "cell_type": "code",
   "execution_count": 18,
   "id": "00191932",
   "metadata": {},
   "outputs": [
    {
     "ename": "ValueError",
     "evalue": "Federated learning failed to produce global cluster centers.",
     "output_type": "error",
     "traceback": [
      "\u001b[31m---------------------------------------------------------------------------\u001b[39m",
      "\u001b[31mValueError\u001b[39m                                Traceback (most recent call last)",
      "\u001b[36mCell\u001b[39m\u001b[36m \u001b[39m\u001b[32mIn[18]\u001b[39m\u001b[32m, line 4\u001b[39m\n\u001b[32m      2\u001b[39m global_centers = strategy.global_centers\n\u001b[32m      3\u001b[39m \u001b[38;5;28;01mif\u001b[39;00m global_centers \u001b[38;5;129;01mis\u001b[39;00m \u001b[38;5;28;01mNone\u001b[39;00m:\n\u001b[32m----> \u001b[39m\u001b[32m4\u001b[39m     \u001b[38;5;28;01mraise\u001b[39;00m \u001b[38;5;167;01mValueError\u001b[39;00m(\u001b[33m\"\u001b[39m\u001b[33mFederated learning failed to produce global cluster centers.\u001b[39m\u001b[33m\"\u001b[39m)\n\u001b[32m      5\u001b[39m \u001b[38;5;28mprint\u001b[39m(\u001b[33mf\u001b[39m\u001b[33m\"\u001b[39m\u001b[33mGlobal centers: \u001b[39m\u001b[38;5;132;01m{\u001b[39;00mglobal_centers\u001b[38;5;132;01m}\u001b[39;00m\u001b[33m\"\u001b[39m)\n",
      "\u001b[31mValueError\u001b[39m: Federated learning failed to produce global cluster centers."
     ]
    }
   ],
   "source": [
    "# Get the aggregated cluster centers after the simulation\n",
    "global_centers = strategy.global_centers\n",
    "if global_centers is None:\n",
    "    raise ValueError(\"Federated learning failed to produce global cluster centers.\")\n",
    "print(f\"Global centers: {global_centers}\")"
   ]
  },
  {
   "cell_type": "code",
   "execution_count": 43,
   "id": "d3b05f81",
   "metadata": {},
   "outputs": [
    {
     "name": "stdout",
     "output_type": "stream",
     "text": [
      "Cluster distribution:\n",
      "cluster\n",
      "0    44\n",
      "1     6\n",
      "Name: count, dtype: int64\n",
      "   Rank                                     Address         Address_Nametag  \\\n",
      "0     1  0x37305b1cd40574e4c5ce33f8e8306be057fd7341                Sky: PSM   \n",
      "1     2  0xad354cfbaa4a8572dd6df021514a3931a8329ef5                     NaN   \n",
      "2     3  0xe1940f578743367f38d3f25c2d2d32d6636929b6                     NaN   \n",
      "3     4  0xf977814e90da44bfa03b6295a0616a897441acec  Binance: Hot Wallet 20   \n",
      "4     5  0x420ef1f25563593af5fe3f9b9d3bc56a8bd8c104                     NaN   \n",
      "\n",
      "               Quantity  Percentage         Value  cluster  \n",
      "0  2,412,966,370.760662      6.0706  2.412382e+09        1  \n",
      "1       1,400,000,000.5      3.5221  1.399661e+09        1  \n",
      "2  1,399,999,999.009477      3.5221  1.399661e+09        1  \n",
      "3  1,024,607,666.553856      2.5777  1.024360e+09        1  \n",
      "4    1,000,000,002.0169      2.5158  9.997580e+08        1  \n"
     ]
    }
   ],
   "source": [
    "#Applying the final clustering to all data\n",
    "final_kmeans = KMeans(n_clusters=2, random_state=42)\n",
    "final_kmeans.fit(scaler_data)\n",
    "df['cluster'] = final_kmeans.predict(scaler_data)\n",
    "\n",
    "# Check the cluster distribution\n",
    "print(\"Cluster distribution:\")\n",
    "print(df['cluster'].value_counts())\n",
    "\n",
    "# Print the first few rows to verify\n",
    "print(df.head())"
   ]
  },
  {
   "cell_type": "code",
   "execution_count": 73,
   "id": "7bed4b79",
   "metadata": {},
   "outputs": [
    {
     "name": "stdout",
     "output_type": "stream",
     "text": [
      "n_clusters=2, Unique clusters=2, Labels=[0 0 1 1 1]\n",
      "n_clusters=3, Unique clusters=3, Labels=[2 0 0 1 1]\n",
      "n_clusters=4, Unique clusters=4, Labels=[2 0 0 3 1]\n",
      "n_clusters=5, Unique clusters=5, Labels=[2 0 4 3 1]\n"
     ]
    }
   ],
   "source": [
    "from sklearn.cluster import KMeans\n",
    "import pandas as pd\n",
    "\n",
    "# Your DataFrame\n",
    "data = {'feature1': [1, 2, 3, 4, 5], 'feature2': [2, 4, 5, 4, 5]}\n",
    "df = pd.DataFrame(data)\n",
    "\n",
    "# Test different numbers of clusters\n",
    "for n_clusters in range(2, 6):\n",
    "    kmeans = KMeans(n_clusters=n_clusters, random_state=42)\n",
    "    cluster_labels = kmeans.fit_predict(df[['feature1', 'feature2']])\n",
    "    unique_clusters = len(set(cluster_labels))\n",
    "    print(f\"n_clusters={n_clusters}, Unique clusters={unique_clusters}, Labels={cluster_labels}\")"
   ]
  },
  {
   "cell_type": "code",
   "execution_count": 81,
   "id": "4e3dc851",
   "metadata": {},
   "outputs": [
    {
     "name": "stdout",
     "output_type": "stream",
     "text": [
      "DBSCAN Labels: [-1 -1 -1 -1 -1], Unique clusters (excluding noise): 0\n",
      "DBSCAN produced fewer than 2 clusters (excluding noise).\n"
     ]
    }
   ],
   "source": [
    "from sklearn.cluster import DBSCAN\n",
    "from sklearn.metrics import silhouette_score\n",
    "\n",
    "# Your DataFrame\n",
    "data = {'feature1': [1, 2, 3, 4, 5], 'feature2': [2, 4, 5, 4, 5]}\n",
    "df = pd.DataFrame(data)\n",
    "\n",
    "# Try DBSCAN\n",
    "dbscan = DBSCAN(eps=1.0, min_samples=2)\n",
    "cluster_labels = dbscan.fit_predict(df[['feature1', 'feature2']])\n",
    "unique_clusters = len(set(cluster_labels)) - (1 if -1 in cluster_labels else 0)  # Exclude noise\n",
    "print(f\"DBSCAN Labels: {cluster_labels}, Unique clusters (excluding noise): {unique_clusters}\")\n",
    "if unique_clusters >= 2:\n",
    "    score = silhouette_score(df[['feature1', 'feature2']], cluster_labels)\n",
    "    print(f\"Silhouette Score with DBSCAN: {score}\")\n",
    "else:\n",
    "    print(\"DBSCAN produced fewer than 2 clusters (excluding noise).\")"
   ]
  },
  {
   "cell_type": "code",
   "execution_count": 82,
   "id": "96861095",
   "metadata": {},
   "outputs": [
    {
     "name": "stdout",
     "output_type": "stream",
     "text": [
      "After excluding noise, fewer than 2 clusters remain.\n"
     ]
    }
   ],
   "source": [
    "# Filter out noise points\n",
    "mask = cluster_labels != -1\n",
    "if len(set(cluster_labels[mask])) >= 2:\n",
    "    score = silhouette_score(df[['feature1', 'feature2']][mask], cluster_labels[mask])\n",
    "    print(f\"Silhouette Score with DBSCAN (excluding noise): {score}\")\n",
    "else:\n",
    "    print(\"After excluding noise, fewer than 2 clusters remain.\")"
   ]
  },
  {
   "cell_type": "code",
   "execution_count": 83,
   "id": "674c0b36",
   "metadata": {},
   "outputs": [
    {
     "name": "stdout",
     "output_type": "stream",
     "text": [
      "Shape of features: (5, 2)\n",
      "Length of cluster_labels: 5\n"
     ]
    }
   ],
   "source": [
    "print(\"Shape of features:\", df[['feature1', 'feature2']].shape)\n",
    "print(\"Length of cluster_labels:\", len(cluster_labels))"
   ]
  },
  {
   "cell_type": "code",
   "execution_count": 84,
   "id": "f5818cc2",
   "metadata": {},
   "outputs": [
    {
     "name": "stdout",
     "output_type": "stream",
     "text": [
      "n_clusters=2, Unique clusters=2, Labels=[0 0 1 1 1]\n",
      "Cluster sizes: [2 3]\n",
      "Silhouette Score: 0.3655981284134393\n",
      "n_clusters=3, Unique clusters=3, Labels=[2 0 0 1 1]\n",
      "Cluster sizes: [2 2 1]\n",
      "Skipping silhouette score for 3 clusters: 3 clusters found, sizes=[2 2 1]\n",
      "n_clusters=4, Unique clusters=4, Labels=[2 0 0 3 1]\n",
      "Cluster sizes: [2 1 1 1]\n",
      "Skipping silhouette score for 4 clusters: 4 clusters found, sizes=[2 1 1 1]\n",
      "n_clusters=5, Unique clusters=5, Labels=[2 0 4 3 1]\n",
      "Cluster sizes: [1 1 1 1 1]\n",
      "Skipping silhouette score for 5 clusters: 5 clusters found, sizes=[1 1 1 1 1]\n"
     ]
    }
   ],
   "source": [
    "from sklearn.cluster import KMeans\n",
    "import numpy as np\n",
    "\n",
    "# Your DataFrame\n",
    "data = {'feature1': [1, 2, 3, 4, 5], 'feature2': [2, 4, 5, 4, 5]}\n",
    "df = pd.DataFrame(data)\n",
    "\n",
    "for n_clusters in range(2, 6):\n",
    "    kmeans = KMeans(n_clusters=n_clusters, random_state=42)\n",
    "    cluster_labels = kmeans.fit_predict(df[['feature1', 'feature2']])\n",
    "    unique_clusters = len(set(cluster_labels))\n",
    "    print(f\"n_clusters={n_clusters}, Unique clusters={unique_clusters}, Labels={cluster_labels}\")\n",
    "    \n",
    "    # Check the size of each cluster\n",
    "    cluster_sizes = np.bincount(cluster_labels)\n",
    "    print(f\"Cluster sizes: {cluster_sizes}\")\n",
    "    \n",
    "    if unique_clusters >= 2 and all(size > 1 for size in cluster_sizes if size > 0):\n",
    "        score = silhouette_score(df[['feature1', 'feature2']], cluster_labels)\n",
    "        print(f\"Silhouette Score: {score}\")\n",
    "    else:\n",
    "        print(f\"Skipping silhouette score for {n_clusters} clusters: {unique_clusters} clusters found, sizes={cluster_sizes}\")"
   ]
  },
  {
   "cell_type": "code",
   "execution_count": 85,
   "id": "bf2add5d",
   "metadata": {},
   "outputs": [
    {
     "name": "stdout",
     "output_type": "stream",
     "text": [
      "n_clusters=2, Unique clusters=2, Labels=[0 0 1 1 1], Sizes=[2 3]\n",
      "Silhouette Score: 0.33330935374127285\n",
      "n_clusters=3, Unique clusters=3, Labels=[2 0 0 1 1], Sizes=[2 2 1]\n",
      "Skipping silhouette score for 3 clusters: 3 clusters found, sizes=[2 2 1]\n",
      "n_clusters=4, Unique clusters=4, Labels=[2 0 0 3 1], Sizes=[2 1 1 1]\n",
      "Skipping silhouette score for 4 clusters: 4 clusters found, sizes=[2 1 1 1]\n",
      "n_clusters=5, Unique clusters=5, Labels=[2 0 4 3 1], Sizes=[1 1 1 1 1]\n",
      "Skipping silhouette score for 5 clusters: 5 clusters found, sizes=[1 1 1 1 1]\n"
     ]
    }
   ],
   "source": [
    "from sklearn.preprocessing import StandardScaler\n",
    "\n",
    "scaler = StandardScaler()\n",
    "scaled_features = scaler.fit_transform(df[['feature1', 'feature2']])\n",
    "\n",
    "for n_clusters in range(2, 6):\n",
    "    kmeans = KMeans(n_clusters=n_clusters, random_state=42)\n",
    "    cluster_labels = kmeans.fit_predict(scaled_features)\n",
    "    unique_clusters = len(set(cluster_labels))\n",
    "    cluster_sizes = np.bincount(cluster_labels)\n",
    "    print(f\"n_clusters={n_clusters}, Unique clusters={unique_clusters}, Labels={cluster_labels}, Sizes={cluster_sizes}\")\n",
    "    if unique_clusters >= 2 and all(size > 1 for size in cluster_sizes if size > 0):\n",
    "        score = silhouette_score(scaled_features, cluster_labels)\n",
    "        print(f\"Silhouette Score: {score}\")\n",
    "    else:\n",
    "        print(f\"Skipping silhouette score for {n_clusters} clusters: {unique_clusters} clusters found, sizes={cluster_sizes}\")"
   ]
  },
  {
   "cell_type": "code",
   "execution_count": 86,
   "id": "ae058378",
   "metadata": {},
   "outputs": [
    {
     "data": {
      "image/png": "[encoded data removed]",
      "text/plain": [
       "<Figure size 640x480 with 1 Axes>"
      ]
     },
     "metadata": {},
     "output_type": "display_data"
    }
   ],
   "source": [
    "import matplotlib.pyplot as plt\n",
    "\n",
    "plt.scatter(df['feature1'], df['feature2'], c=cluster_labels, cmap='viridis')\n",
    "plt.xlabel('Feature 1')\n",
    "plt.ylabel('Feature 2')\n",
    "plt.title('Clusters')\n",
    "plt.show()"
   ]
  },
  {
   "cell_type": "code",
   "execution_count": 1,
   "id": "a3b3d950",
   "metadata": {},
   "outputs": [
    {
     "ename": "NameError",
     "evalue": "name 'DBSCAN' is not defined",
     "output_type": "error",
     "traceback": [
      "\u001b[31m---------------------------------------------------------------------------\u001b[39m",
      "\u001b[31mNameError\u001b[39m                                 Traceback (most recent call last)",
      "\u001b[36mCell\u001b[39m\u001b[36m \u001b[39m\u001b[32mIn[1]\u001b[39m\u001b[32m, line 1\u001b[39m\n\u001b[32m----> \u001b[39m\u001b[32m1\u001b[39m dbscan = \u001b[43mDBSCAN\u001b[49m(eps=\u001b[32m1.5\u001b[39m, min_samples=\u001b[32m2\u001b[39m)\n\u001b[32m      2\u001b[39m cluster_labels = dbscan.fit_predict(scaled_features)\n",
      "\u001b[31mNameError\u001b[39m: name 'DBSCAN' is not defined"
     ]
    }
   ],
   "source": [
    "dbscan = DBSCAN(eps=1.5, min_samples=2)\n",
    "cluster_labels = dbscan.fit_predict(scaled_features)"
   ]
  },
  {
   "cell_type": "code",
   "execution_count": 94,
   "id": "afd8babb",
   "metadata": {},
   "outputs": [
    {
     "name": "stdout",
     "output_type": "stream",
     "text": [
      "   feature1  feature2  cluster\n",
      "0         1         2       -1\n",
      "1         2         4        0\n",
      "2         3         5        0\n",
      "3         4         4        0\n",
      "4         5         5        0\n"
     ]
    }
   ],
   "source": [
    "df['cluster'] = cluster_labels\n",
    "df.to_csv('clustered_data.csv', index=False)\n",
    "print(df)"
   ]
  }
 ],
 "metadata": {
  "kernelspec": {
   "display_name": ".venv",
   "language": "python",
   "name": "python3"
  },
  "language_info": {
   "codemirror_mode": {
    "name": "ipython",
    "version": 3
   },
   "file_extension": ".py",
   "mimetype": "text/x-python",
   "name": "python",
   "nbconvert_exporter": "python",
   "pygments_lexer": "ipython3",
   "version": "3.12.10"
  }
 },
 "nbformat": 4,
 "nbformat_minor": 5
}
